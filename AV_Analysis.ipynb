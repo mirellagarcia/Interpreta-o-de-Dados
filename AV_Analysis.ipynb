{
  "nbformat": 4,
  "nbformat_minor": 0,
  "metadata": {
    "colab": {
      "name": "AV_Analysis",
      "provenance": [],
      "include_colab_link": true
    },
    "kernelspec": {
      "name": "python3",
      "display_name": "Python 3"
    },
    "language_info": {
      "name": "python"
    }
  },
  "cells": [
    {
      "cell_type": "markdown",
      "metadata": {
        "id": "view-in-github",
        "colab_type": "text"
      },
      "source": [
        "<a href=\"https://colab.research.google.com/github/mirellagarcia/interpretando_dados/blob/main/AV_Analysis.ipynb\" target=\"_parent\"><img src=\"https://colab.research.google.com/assets/colab-badge.svg\" alt=\"Open In Colab\"/></a>"
      ]
    },
    {
      "cell_type": "code",
      "metadata": {
        "id": "QtMeJfN8SdOA",
        "colab": {
          "base_uri": "https://localhost:8080/"
        },
        "outputId": "d24bb238-1584-4183-af4a-bb35e1cbaa8a"
      },
      "source": [
        "# instalar tweepy - para jupyter notebook\n",
        "! pip install tweepy"
      ],
      "execution_count": 7,
      "outputs": [
        {
          "output_type": "stream",
          "name": "stdout",
          "text": [
            "Requirement already satisfied: tweepy in /usr/local/lib/python3.7/dist-packages (3.10.0)\n",
            "Requirement already satisfied: requests-oauthlib>=0.7.0 in /usr/local/lib/python3.7/dist-packages (from tweepy) (1.3.0)\n",
            "Requirement already satisfied: requests[socks]>=2.11.1 in /usr/local/lib/python3.7/dist-packages (from tweepy) (2.23.0)\n",
            "Requirement already satisfied: six>=1.10.0 in /usr/local/lib/python3.7/dist-packages (from tweepy) (1.15.0)\n",
            "Requirement already satisfied: oauthlib>=3.0.0 in /usr/local/lib/python3.7/dist-packages (from requests-oauthlib>=0.7.0->tweepy) (3.1.1)\n",
            "Requirement already satisfied: idna<3,>=2.5 in /usr/local/lib/python3.7/dist-packages (from requests[socks]>=2.11.1->tweepy) (2.10)\n",
            "Requirement already satisfied: urllib3!=1.25.0,!=1.25.1,<1.26,>=1.21.1 in /usr/local/lib/python3.7/dist-packages (from requests[socks]>=2.11.1->tweepy) (1.24.3)\n",
            "Requirement already satisfied: certifi>=2017.4.17 in /usr/local/lib/python3.7/dist-packages (from requests[socks]>=2.11.1->tweepy) (2021.5.30)\n",
            "Requirement already satisfied: chardet<4,>=3.0.2 in /usr/local/lib/python3.7/dist-packages (from requests[socks]>=2.11.1->tweepy) (3.0.4)\n",
            "Requirement already satisfied: PySocks!=1.5.7,>=1.5.6 in /usr/local/lib/python3.7/dist-packages (from requests[socks]>=2.11.1->tweepy) (1.7.1)\n"
          ]
        }
      ]
    },
    {
      "cell_type": "code",
      "metadata": {
        "id": "JXcyA983Yw0i"
      },
      "source": [
        "import tweepy"
      ],
      "execution_count": 8,
      "outputs": []
    },
    {
      "cell_type": "code",
      "metadata": {
        "id": "ShBYA1gPZBhS"
      },
      "source": [
        "API_KEY = 'AeNPHdJUqw9harxVrQ2fFTxCt'\n",
        "API_SECRET = 'qNtvetvaaWSpS5BH7372NOJnyOf96NIM5F03aRhYV2dWxFdJOC'\n",
        "ACCESS_TOKEN = '155108745-Hk0wdYvQA0BCtjkUIQIXWbIeWcmnGzJQe4IJkfzp'\n",
        "ACCESS_SECRET = 'Q7TXWr90m7UOJ00kmLaYHbcDeRyeyucZn32ILSBKkJzdw'"
      ],
      "execution_count": 9,
      "outputs": []
    },
    {
      "cell_type": "code",
      "metadata": {
        "id": "Xa-oGXEpZiyz"
      },
      "source": [
        "auth = tweepy.OAuthHandler(API_KEY, API_SECRET)\n",
        "auth.set_access_token(ACCESS_TOKEN, ACCESS_SECRET)\n",
        "api = tweepy.API(auth)"
      ],
      "execution_count": 10,
      "outputs": []
    },
    {
      "cell_type": "code",
      "metadata": {
        "colab": {
          "base_uri": "https://localhost:8080/"
        },
        "id": "JH9-NmTtZ80k",
        "outputId": "9ae2ab36-06e7-462a-dc64-b3dfc1ae665e"
      },
      "source": [
        "# Tweets da timeline do usuário autenticado\n",
        "# Iniciando analise dos tweets\n",
        "tweets = tweepy.Cursor(api.home_timeline)\n",
        "items = tweets.items(5)\n",
        "for status in items:\n",
        "  print(status.text, '\\n')"
      ],
      "execution_count": 11,
      "outputs": [
        {
          "output_type": "stream",
          "name": "stdout",
          "text": [
            "Frases de Game of Thrones – 3ª temporada\n",
            "https://t.co/HOkyGYrAAs \n",
            "\n",
            "Cantor achado morto dentro do carro deixa mulher e um filho; amigo desabafa: ‘Uma tristeza’ https://t.co/yL4Pbu9XXQ \n",
            "\n",
            "Brasil estreia com vitórias no Mundial de tênis em cadeira de rodas https://t.co/3Tac90C3Gi \n",
            "\n",
            "BNDES seleciona 25 startups para apoio financeiro gratuito https://t.co/B18wOIC2ex \n",
            "\n",
            "To mto feliz q não me estressei na live hoje \n",
            "\n"
          ]
        }
      ]
    },
    {
      "cell_type": "code",
      "metadata": {
        "colab": {
          "base_uri": "https://localhost:8080/"
        },
        "id": "7Op3WnV9dMzI",
        "outputId": "cc1dfb67-bb4e-46e4-dac8-f1948cc85ab9"
      },
      "source": [
        "#tweets de um usuário do twitter (tweet parcial) - Mirella Garcia\n",
        "tweets = tweepy.Cursor(api.user_timeline, \"mirellagarciia\")\n",
        "for status in tweets.items(5):\n",
        "  print(status.text, '\\n')\n"
      ],
      "execution_count": 12,
      "outputs": [
        {
          "output_type": "stream",
          "name": "stdout",
          "text": [
            "@htaayla Até eu queria \n",
            "\n",
            "RT @medosobscuros: Tem gente que te ensina tanta coisa, que quando você aprende, você nunca mais quer ver a pessoa. \n",
            "\n",
            "RT @lhmandetta: Oremos. Força SUS. Ciência. Paciência. Fé! \n",
            "\n",
            "#FicaEmCasa \n",
            "\n",
            "@htaayla Serena queen vanderwoodsen \n",
            "\n",
            "@htaayla E seu cupuaçu? \n",
            "\n"
          ]
        }
      ]
    },
    {
      "cell_type": "code",
      "metadata": {
        "colab": {
          "base_uri": "https://localhost:8080/"
        },
        "id": "TcA41cAAeXWv",
        "outputId": "38cb627e-9cd0-4d40-f083-9924107f598a"
      },
      "source": [
        "# tweets de um usuário do twitter (Tweet completo)\n",
        "tweets = tweepy.Cursor(\n",
        "    api.user_timeline, \n",
        "    \"sbcbrasil\", \n",
        "    tweet_mode=\"extended\"\n",
        ")\n",
        "for status in tweets.items(5):\n",
        "  print(status.full_text, '\\n')"
      ],
      "execution_count": 13,
      "outputs": [
        {
          "output_type": "stream",
          "name": "stdout",
          "text": [
            "Atenção, estudantes de graduação e pós-graduação. \n",
            "A Escola Regional de Redes de Computadores (ERRC), está com inscrições abertas!\n",
            "Inscreva-se em:https://t.co/gOl0DXNGQ4\n",
            "#ERRC2021 #EscolaRegional #ERRC #RededeComputadores #SBC https://t.co/R4v1X7QxnJ \n",
            "\n",
            "@manoelvsnt E aí, Manoel, beleza? Nossa posição é contrária à exigência de registro do Engenheiro de Software no CREA. Podemos fazer um fio a respeito qualquer dia, mas você também pode ver nosso posicionamento no site &gt;&gt; https://t.co/Kap0lcsyHe \n",
            "\n",
            "@elixir_utfpr Usamos um gerenciador de conteúdo e deu ruim 🤦‍♀️ \n",
            "\n",
            "@elixir_utfpr Gratos pela partilha! \n",
            "\n",
            "Mas não somos contra o diploma, pelo contrário: valorizamos o diploma de curso superior como instrumento diferenciador de capacidade tecno-científica e indicador de elevado potencial de competência profissional. \n",
            "\n"
          ]
        }
      ]
    },
    {
      "cell_type": "code",
      "metadata": {
        "id": "fdKGOUs4a9Ja",
        "colab": {
          "base_uri": "https://localhost:8080/"
        },
        "outputId": "3d01d0d4-683b-4c75-b3f7-3b74310ccab8"
      },
      "source": [
        "# Buscar por tweets contendo inteligência artificial\n",
        "tweets = tweepy.Cursor(\n",
        "    api.search,\n",
        "    q='\"inteligência artificial\"',\n",
        "    tweet_mode=\"extended\"\n",
        ")\n",
        "\n",
        "for status in tweets.items(5):\n",
        "  print(status.full_text, '\\n')"
      ],
      "execution_count": 14,
      "outputs": [
        {
          "output_type": "stream",
          "name": "stdout",
          "text": [
            "RT @atmossfairy: Como Yuval disse no Roda Viva: a inteligência artificial e a biotecnologia estão dando a nós os poderes da criação e muita… \n",
            "\n",
            "RT @regenmedica: En mis historias de mi instagram @ doctora.regenmedica está el live donde hablamos sobre los alimentos transgénicos, CRISP… \n",
            "\n",
            "Inteligencia Artificial aplicada a las Estructuras (otras bestias parte I) https://t.co/l5IYgC7Xmq \n",
            "\n",
            "🍏 La Inteligencia Artificial sabrá cómo eres de verdad mirándote a los ojos... https://t.co/qiA23mVxKc \n",
            "\n",
            "Como Yuval disse no Roda Viva: a inteligência artificial e a biotecnologia estão dando a nós os poderes da criação e muitas pessoas da sociedade não tem a mente flexível para entender isso. https://t.co/SEnypBc8TC \n",
            "\n"
          ]
        }
      ]
    },
    {
      "cell_type": "code",
      "metadata": {
        "colab": {
          "base_uri": "https://localhost:8080/"
        },
        "id": "QHfsSyc7e4-O",
        "outputId": "1c18b829-5eeb-4da0-d8ec-196d0c52f435"
      },
      "source": [
        "# Buscar por tweets contendo Tecnologia\n",
        "tweets = tweepy.Cursor(\n",
        "    api.search,\n",
        "    q='\"Tecnologia\"',\n",
        "    tweet_mode=\"extended\"\n",
        ")\n",
        "\n",
        "for status in tweets.items(5):\n",
        "  print(status.full_text, '\\n')"
      ],
      "execution_count": 15,
      "outputs": [
        {
          "output_type": "stream",
          "name": "stdout",
          "text": [
            "RT @JTrianaT: ¿Tiene algo de malo tener una hija becaria del @Conacyt_MX ? \n",
            "\n",
            "- NO \n",
            "\n",
            "Lo que si es asquerosamente incongruente es sumarte a l… \n",
            "\n",
            "RT @NoAguacatito: ¿Tiene algo de malo tener una hija becaria del @Conacyt_MX ? \n",
            "\n",
            "- NO \n",
            "\n",
            "Lo que si es asquerosamente incongruente es sumarte… \n",
            "\n",
            "RT @beatrizargimon: Celebramos el Día del Futuro con la jornada “Uruguay trae futuro al presente” que permitirá a la Comisión del Futuro re… \n",
            "\n",
            "RT @Fundacion_UNAM: Saca tu calendario y aparta el 21 de octubre para acompañarnos en la sesión Ciencia y Tecnología de nuestro #Foro2020,… \n",
            "\n",
            "RT @007Lola_Mento: Que la FGR también investigue a Mariana Imaz Sheinbaum por obtener un beneficio indebido\n",
            "\n",
            "Qué tiene que ver la ciencia y… \n",
            "\n"
          ]
        }
      ]
    },
    {
      "cell_type": "code",
      "metadata": {
        "colab": {
          "base_uri": "https://localhost:8080/"
        },
        "id": "3nuZuixhe9q-",
        "outputId": "ce061ed9-21e4-42df-f711-64911279ddf1"
      },
      "source": [
        "# Buscar por tweets contendo Covid\n",
        "tweets = tweepy.Cursor(\n",
        "    api.search,\n",
        "    q='\"Covid\"',\n",
        "    tweet_mode=\"extended\"\n",
        ")\n",
        "\n",
        "for status in tweets.items(5):\n",
        "  print(status.full_text, '\\n')"
      ],
      "execution_count": 16,
      "outputs": [
        {
          "output_type": "stream",
          "name": "stdout",
          "text": [
            "RT @PortaldoJose: Bolsonaro vai gastar 450 milhões em publicidade ! 100 vezes mais do que foi gasto contra covid! A Globo vai ficar com a m… \n",
            "\n",
            "RT @BettyBowers: @laurenboebert While this makes no sense, it did make me smile.\n",
            "\n",
            "Loons like @laurenboebert are claiming \"religious exempti… \n",
            "\n",
            "RT @gary_kline: @lglnrse This is the poison of disinformation. It subverts logical reasoning. Even professionals, in their own profession.… \n",
            "\n",
            "RT @Quicktake: 70% of long Covid sufferers develop damage to at least one vital organ like the heart or liver, a new U.K. study found https… \n",
            "\n",
            "RT @1977DavidHughes: This is not about covid, once introduced no going back. #NoVaccinePassports https://t.co/npwgGVSrON \n",
            "\n"
          ]
        }
      ]
    },
    {
      "cell_type": "code",
      "metadata": {
        "colab": {
          "base_uri": "https://localhost:8080/"
        },
        "id": "PFTAeDFUfEct",
        "outputId": "de666050-03c8-4460-de52-eb5d9bf57d8d"
      },
      "source": [
        "# Buscar por tweets contendo Rock in Rio\n",
        "tweets = tweepy.Cursor(\n",
        "    api.search,\n",
        "    q=f'Rock in Rio',\n",
        "    lang='pt',\n",
        "    since='2020-09-24', # desde essa data\n",
        "    until='2021-09-25', # até essa data    \n",
        "    tweet_mode=\"extended\"\n",
        ")\n",
        "\n",
        "for status in tweets.items(5):\n",
        "  print(status.full_text, '\\n####\\n')"
      ],
      "execution_count": 17,
      "outputs": [
        {
          "output_type": "stream",
          "name": "stdout",
          "text": [
            "@rudyftcline quero meu codiguin, vc tb disse que ia recarregar dima p mim, quero tb meu gato, me levar pro rock in rio e várias outras coisas \n",
            "####\n",
            "\n",
            "RT @henccbru: Bruno Mars nos trends novamente porque todo mundo quer o homem no Rock In Rio https://t.co/VGKJkhDQeX \n",
            "####\n",
            "\n",
            "se o rock in rio fizesse um palco de samba e pagode eu seria a pessoa mais feliz do mundo \n",
            "####\n",
            "\n",
            "tão tentando hackear minha conta do ingresso do rock in rio??? eu n solicitei nada https://t.co/PCOOomo7He \n",
            "####\n",
            "\n",
            "RT @ComenteiEDai: A galera do filme do rock in Rio tentando surfar no hype de a menina que matou os pais kkkkkkk Carla Diaz é momento!!\n",
            "Tá… \n",
            "####\n",
            "\n"
          ]
        }
      ]
    },
    {
      "cell_type": "code",
      "metadata": {
        "colab": {
          "base_uri": "https://localhost:8080/"
        },
        "id": "39al7g9llMLR",
        "outputId": "6b4b555e-71d4-4cbe-9901-9889a28cbc2e"
      },
      "source": [
        "import json\n",
        "print(json.dumps(status._json, indent=4))"
      ],
      "execution_count": 18,
      "outputs": [
        {
          "output_type": "stream",
          "name": "stdout",
          "text": [
            "{\n",
            "    \"created_at\": \"Fri Sep 24 23:59:32 +0000 2021\",\n",
            "    \"id\": 1441552915814961152,\n",
            "    \"id_str\": \"1441552915814961152\",\n",
            "    \"full_text\": \"RT @ComenteiEDai: A galera do filme do rock in Rio tentando surfar no hype de a menina que matou os pais kkkkkkk Carla Diaz \\u00e9 momento!!\\nT\\u00e1\\u2026\",\n",
            "    \"truncated\": false,\n",
            "    \"display_text_range\": [\n",
            "        0,\n",
            "        139\n",
            "    ],\n",
            "    \"entities\": {\n",
            "        \"hashtags\": [],\n",
            "        \"symbols\": [],\n",
            "        \"user_mentions\": [\n",
            "            {\n",
            "                \"screen_name\": \"ComenteiEDai\",\n",
            "                \"name\": \"Ana\",\n",
            "                \"id\": 1372685897351716868,\n",
            "                \"id_str\": \"1372685897351716868\",\n",
            "                \"indices\": [\n",
            "                    3,\n",
            "                    16\n",
            "                ]\n",
            "            }\n",
            "        ],\n",
            "        \"urls\": []\n",
            "    },\n",
            "    \"metadata\": {\n",
            "        \"iso_language_code\": \"pt\",\n",
            "        \"result_type\": \"recent\"\n",
            "    },\n",
            "    \"source\": \"<a href=\\\"http://twitter.com/download/android\\\" rel=\\\"nofollow\\\">Twitter for Android</a>\",\n",
            "    \"in_reply_to_status_id\": null,\n",
            "    \"in_reply_to_status_id_str\": null,\n",
            "    \"in_reply_to_user_id\": null,\n",
            "    \"in_reply_to_user_id_str\": null,\n",
            "    \"in_reply_to_screen_name\": null,\n",
            "    \"user\": {\n",
            "        \"id\": 1293984843672543238,\n",
            "        \"id_str\": \"1293984843672543238\",\n",
            "        \"name\": \"marcela \\ud83e\\udd8b\",\n",
            "        \"screen_name\": \"marcelatuita\",\n",
            "        \"location\": \"S\\u00e3o Paulo, Brasil\",\n",
            "        \"description\": \"f\\u00e3 de uma estrela completa \\ud83e\\udd8b\",\n",
            "        \"url\": null,\n",
            "        \"entities\": {\n",
            "            \"description\": {\n",
            "                \"urls\": []\n",
            "            }\n",
            "        },\n",
            "        \"protected\": false,\n",
            "        \"followers_count\": 267,\n",
            "        \"friends_count\": 324,\n",
            "        \"listed_count\": 1,\n",
            "        \"created_at\": \"Thu Aug 13 18:56:56 +0000 2020\",\n",
            "        \"favourites_count\": 26309,\n",
            "        \"utc_offset\": null,\n",
            "        \"time_zone\": null,\n",
            "        \"geo_enabled\": false,\n",
            "        \"verified\": false,\n",
            "        \"statuses_count\": 9160,\n",
            "        \"lang\": null,\n",
            "        \"contributors_enabled\": false,\n",
            "        \"is_translator\": false,\n",
            "        \"is_translation_enabled\": false,\n",
            "        \"profile_background_color\": \"F5F8FA\",\n",
            "        \"profile_background_image_url\": null,\n",
            "        \"profile_background_image_url_https\": null,\n",
            "        \"profile_background_tile\": false,\n",
            "        \"profile_image_url\": \"http://pbs.twimg.com/profile_images/1441160356601028614/LzxnJJMU_normal.png\",\n",
            "        \"profile_image_url_https\": \"https://pbs.twimg.com/profile_images/1441160356601028614/LzxnJJMU_normal.png\",\n",
            "        \"profile_banner_url\": \"https://pbs.twimg.com/profile_banners/1293984843672543238/1630437723\",\n",
            "        \"profile_link_color\": \"1DA1F2\",\n",
            "        \"profile_sidebar_border_color\": \"C0DEED\",\n",
            "        \"profile_sidebar_fill_color\": \"DDEEF6\",\n",
            "        \"profile_text_color\": \"333333\",\n",
            "        \"profile_use_background_image\": true,\n",
            "        \"has_extended_profile\": false,\n",
            "        \"default_profile\": true,\n",
            "        \"default_profile_image\": false,\n",
            "        \"following\": false,\n",
            "        \"follow_request_sent\": false,\n",
            "        \"notifications\": false,\n",
            "        \"translator_type\": \"none\",\n",
            "        \"withheld_in_countries\": []\n",
            "    },\n",
            "    \"geo\": null,\n",
            "    \"coordinates\": null,\n",
            "    \"place\": null,\n",
            "    \"contributors\": null,\n",
            "    \"retweeted_status\": {\n",
            "        \"created_at\": \"Fri Sep 24 23:58:11 +0000 2021\",\n",
            "        \"id\": 1441552575178973185,\n",
            "        \"id_str\": \"1441552575178973185\",\n",
            "        \"full_text\": \"A galera do filme do rock in Rio tentando surfar no hype de a menina que matou os pais kkkkkkk Carla Diaz \\u00e9 momento!!\\nT\\u00e1 cert\\u00edssimo, continua e j\\u00e1 aproveita e libera logo\",\n",
            "        \"truncated\": false,\n",
            "        \"display_text_range\": [\n",
            "            0,\n",
            "            170\n",
            "        ],\n",
            "        \"entities\": {\n",
            "            \"hashtags\": [],\n",
            "            \"symbols\": [],\n",
            "            \"user_mentions\": [],\n",
            "            \"urls\": []\n",
            "        },\n",
            "        \"metadata\": {\n",
            "            \"iso_language_code\": \"pt\",\n",
            "            \"result_type\": \"recent\"\n",
            "        },\n",
            "        \"source\": \"<a href=\\\"http://twitter.com/download/android\\\" rel=\\\"nofollow\\\">Twitter for Android</a>\",\n",
            "        \"in_reply_to_status_id\": null,\n",
            "        \"in_reply_to_status_id_str\": null,\n",
            "        \"in_reply_to_user_id\": null,\n",
            "        \"in_reply_to_user_id_str\": null,\n",
            "        \"in_reply_to_screen_name\": null,\n",
            "        \"user\": {\n",
            "            \"id\": 1372685897351716868,\n",
            "            \"id_str\": \"1372685897351716868\",\n",
            "            \"name\": \"Ana\",\n",
            "            \"screen_name\": \"ComenteiEDai\",\n",
            "            \"location\": \"\",\n",
            "            \"description\": \"Quem gostou, gostou. Quem n gostou, paci\\u00eancia.\",\n",
            "            \"url\": null,\n",
            "            \"entities\": {\n",
            "                \"description\": {\n",
            "                    \"urls\": []\n",
            "                }\n",
            "            },\n",
            "            \"protected\": false,\n",
            "            \"followers_count\": 54,\n",
            "            \"friends_count\": 61,\n",
            "            \"listed_count\": 0,\n",
            "            \"created_at\": \"Thu Mar 18 23:07:07 +0000 2021\",\n",
            "            \"favourites_count\": 2490,\n",
            "            \"utc_offset\": null,\n",
            "            \"time_zone\": null,\n",
            "            \"geo_enabled\": false,\n",
            "            \"verified\": false,\n",
            "            \"statuses_count\": 4023,\n",
            "            \"lang\": null,\n",
            "            \"contributors_enabled\": false,\n",
            "            \"is_translator\": false,\n",
            "            \"is_translation_enabled\": false,\n",
            "            \"profile_background_color\": \"F5F8FA\",\n",
            "            \"profile_background_image_url\": null,\n",
            "            \"profile_background_image_url_https\": null,\n",
            "            \"profile_background_tile\": false,\n",
            "            \"profile_image_url\": \"http://pbs.twimg.com/profile_images/1422583451576938499/-ai3-EeC_normal.jpg\",\n",
            "            \"profile_image_url_https\": \"https://pbs.twimg.com/profile_images/1422583451576938499/-ai3-EeC_normal.jpg\",\n",
            "            \"profile_banner_url\": \"https://pbs.twimg.com/profile_banners/1372685897351716868/1622844296\",\n",
            "            \"profile_link_color\": \"1DA1F2\",\n",
            "            \"profile_sidebar_border_color\": \"C0DEED\",\n",
            "            \"profile_sidebar_fill_color\": \"DDEEF6\",\n",
            "            \"profile_text_color\": \"333333\",\n",
            "            \"profile_use_background_image\": true,\n",
            "            \"has_extended_profile\": true,\n",
            "            \"default_profile\": true,\n",
            "            \"default_profile_image\": false,\n",
            "            \"following\": false,\n",
            "            \"follow_request_sent\": false,\n",
            "            \"notifications\": false,\n",
            "            \"translator_type\": \"none\",\n",
            "            \"withheld_in_countries\": []\n",
            "        },\n",
            "        \"geo\": null,\n",
            "        \"coordinates\": null,\n",
            "        \"place\": null,\n",
            "        \"contributors\": null,\n",
            "        \"is_quote_status\": false,\n",
            "        \"retweet_count\": 6,\n",
            "        \"favorite_count\": 36,\n",
            "        \"favorited\": false,\n",
            "        \"retweeted\": false,\n",
            "        \"lang\": \"pt\"\n",
            "    },\n",
            "    \"is_quote_status\": false,\n",
            "    \"retweet_count\": 6,\n",
            "    \"favorite_count\": 0,\n",
            "    \"favorited\": false,\n",
            "    \"retweeted\": false,\n",
            "    \"lang\": \"pt\"\n",
            "}\n"
          ]
        }
      ]
    },
    {
      "cell_type": "code",
      "metadata": {
        "colab": {
          "base_uri": "https://localhost:8080/"
        },
        "id": "m38GeAJrlQvs",
        "outputId": "f3647a7d-731d-4312-bc73-9c5bb580b7ee"
      },
      "source": [
        "print(f\"Data do tweet: {status.created_at}\") #Data\n",
        "print(f'ID: {status.id}') #ID\n",
        "print(f'{status.entities[\"user_mentions\"][0][\"screen_name\"]}') #Menção nome\n",
        "print(f'{status.user.url}') #Url"
      ],
      "execution_count": 19,
      "outputs": [
        {
          "output_type": "stream",
          "name": "stdout",
          "text": [
            "Data do tweet: 2021-09-24 23:59:32\n",
            "ID: 1441552915814961152\n",
            "ComenteiEDai\n",
            "None\n"
          ]
        }
      ]
    },
    {
      "cell_type": "code",
      "metadata": {
        "id": "CjiCdOrdm3pV"
      },
      "source": [
        "class MyStreamListener(tweepy.StreamListener):\n",
        "  c = 0\n",
        "  def on_status(self, status):\n",
        "    MyStreamListener.c += 1\n",
        "    texto = status.text\n",
        "    print(texto)\n",
        "\n",
        "    if MyStreamListener.c > 50:\n",
        "      return False\n",
        "  \n",
        "  def on_error(status, status_code):\n",
        "    print(f'Erro: {repr(status_code)}')"
      ],
      "execution_count": 20,
      "outputs": []
    },
    {
      "cell_type": "code",
      "metadata": {
        "id": "_9B5D_CVyyI5"
      },
      "source": [
        "myStreamListener = MyStreamListener(api=tweepy.API(wait_on_rate_limit=True))\n",
        "myStream = tweepy.Stream(auth=auth, listener= myStreamListener)"
      ],
      "execution_count": 21,
      "outputs": []
    },
    {
      "cell_type": "code",
      "metadata": {
        "colab": {
          "base_uri": "https://localhost:8080/"
        },
        "id": "yM6syV6jy2Qn",
        "outputId": "604cf06c-a0b5-4ba3-fc34-05001ff9e5a4"
      },
      "source": [
        "myStream.filter(\n",
        "    track=['brasileirao']\n",
        ")"
      ],
      "execution_count": 22,
      "outputs": [
        {
          "output_type": "stream",
          "name": "stdout",
          "text": [
            "RT @SCInternacional: 🗣 LANCEI OS BASTIDORES! 💥\n",
            "\n",
            "No Beira-Rio, vencemos o Bahia por 2 a 0 com gols de Yuri Alberto e Dourado. Terceira vitór…\n",
            "RT @FluminenseFC: O segundo maior artilheiro da história do @brasileirao tinha que levar a bola do jogo pra casa! Orgulho, meu 9️⃣! #VaiTeP…\n",
            "@Joo34962552 @FluminenseFC @Brasileirao @fredgol9 na serie b, se iludindo com nene e diniz\n",
            "O maior! 🔥\n",
            "RT @SofaScoreBR: 🔎 @FortalezaEC em rankings ofensivos no @Brasileirao 2021:\n",
            "\n",
            "1° em toques p/ finalizar no gol (114)\n",
            "2° em toques p/ marcar…\n",
            "RT @flahistoria: 27 de Setembro, 2020\n",
            "#flahistoria \n",
            "\n",
            "No Allianz Parque, Flamengo e Palmeiras empataram em 1 a 1 pela 12ª rodada do @Brasile…\n",
            "RT @ffc_nath: o maior camisa 9 já visto no rio de janeiro.\n",
            "@GustavoMaxilarr @SofaScoreBR @Gremio @Brasileirao @vandi_001 pensei q união Grêmio e Corinthians era real\n",
            "RT @SofaScoreBR: Nathan Silva 🆚 João Victor no @Brasileirao 2021:\n",
            "\n",
            "Jogos: 18 - 21\n",
            "Gols: 2 - 0\n",
            "Acerto no passe: 89% - 86\n",
            "Duelos ganhos: 54%…\n",
            "Rivais tropeçando e adversário ameaçado pelo Z-4: #Flamengo perde ótima oportunidade no Brasileirão\n",
            "https://t.co/GtdJOkKBb6\n",
            "RT @Brasileirao: É só fazer... Vem aqui, é o Prêmio #GarçomBrahma para você escolher a melhor assistência da 22ª rodada! Confira os candida…\n",
            "RT @FluminenseFC: O segundo maior artilheiro da história do @brasileirao tinha que levar a bola do jogo pra casa! Orgulho, meu 9️⃣! #VaiTeP…\n",
            "@Brasileirao @fredgol9 @FluminenseFC eu tr amo tanto tanto tanto eu juro que não da pra entender\n",
            "Apesar de tropeço, #Flamengo tem segunda maior chance de título no Brasileirão após a 22ª rodada\n",
            "https://t.co/riXlulLcSw\n",
            "RT @flahistoria: 27 de Setembro, 2020\n",
            "#flahistoria \n",
            "\n",
            "No Allianz Parque, Flamengo e Palmeiras empataram em 1 a 1 pela 12ª rodada do @Brasile…\n",
            "RT @ColunadoFla: Rivais tropeçando e adversário ameaçado pelo Z-4: #Flamengo perde ótima oportunidade no Brasileirão\n",
            "https://t.co/GtdJOkKBb6\n",
            "RT @SofaScoreBR: Vanderson (20 anos) entre os jogadores do @Gremio no @Brasileirao:\n",
            "\n",
            "1º em participações em gols (4)\n",
            "1° em desarmes (35)\n",
            "1º…\n",
            "RT @FluminenseFC: O segundo maior artilheiro da história do @brasileirao tinha que levar a bola do jogo pra casa! Orgulho, meu 9️⃣! #VaiTeP…\n",
            "@SofaScoreBR @Brasileirao Os dois são ótimos zagueiros, mas o que mata é que os dois jogam na mesma posição zagueir… https://t.co/4re0X7J8t0\n",
            "RT @Brasileirao: ⚽️ ME PEGOU! O segundo maior artilheiro da minha história. O gol de domingo e a nova marca. Parabéns, @fredgol9! \n",
            "\n",
            "Você fa…\n",
            "🥰🥰🥰🥰\n",
            "RT @FluminenseFC: O segundo maior artilheiro da história do @brasileirao tinha que levar a bola do jogo pra casa! Orgulho, meu 9️⃣! #VaiTeP…\n",
            "esses cara ficam me comparando com um tal de Nathan Silva\n",
            "@Rogiad1 @GuhSantana17 @SofaScoreBR @Gremio @Brasileirao @vandi_001 É não tem com refutar essa\n",
            "@MakavelliSccp @RagnerMachado5 @zvin1lizz @SofaScoreBR @Brasileirao Beleza, realmente antes do Bruno mendez o inter… https://t.co/6FRsaWsFmS\n",
            "RT @FluminenseFC: BOA, MARCÃO! 🇭🇺\n",
            "\n",
            "Treinador chega a 1️⃣6️⃣ jogos invicto no @brasileirao e ultrapassa Muricy Ramalho como técnico com maio…\n",
            "RT @FluminenseFC: O segundo maior artilheiro da história do @brasileirao tinha que levar a bola do jogo pra casa! Orgulho, meu 9️⃣! #VaiTeP…\n",
            "@yuribrbz @BR7Rubro @a_u_g_u_s_t_o__ @SofaScoreBR @Brasileirao Jogos vistos do Nathan: 0\n",
            "@MakavelliSccp @RagnerMachado5 @zvin1lizz @SofaScoreBR @Brasileirao Voltasse\n",
            "RT @FluminenseFC: O segundo maior artilheiro da história do @brasileirao tinha que levar a bola do jogo pra casa! Orgulho, meu 9️⃣! #VaiTeP…\n",
            "RT @FluminenseFC: O segundo maior artilheiro da história do @brasileirao tinha que levar a bola do jogo pra casa! Orgulho, meu 9️⃣! #VaiTeP…\n",
            "🚀 INTER NO ELEVADOR!\n",
            "\n",
            "✅ 7º no @Brasileirao, a 1 ponto do G6 com uma partida a menos\n",
            "✅ 3ª vitória seguida\n",
            "✅ 8 jogos… https://t.co/f75zEEbiUi\n",
            "RT @FluminenseFC: O segundo maior artilheiro da história do @brasileirao tinha que levar a bola do jogo pra casa! Orgulho, meu 9️⃣! #VaiTeP…\n",
            "@Kskssj36245025 @hfbhefggbhfgf @Brasileirao @FortalezaEC @SCInternacional @FluminenseFC @Corinthians KKKKKKKKK confia\n",
            "⚽️👏🏽\n",
            "só de saber que esse cara tá se aposentando 😭😭😭\n",
            "RT @FluminenseFC: O segundo maior artilheiro da história do @brasileirao tinha que levar a bola do jogo pra casa! Orgulho, meu 9️⃣! #VaiTeP…\n",
            "RT @FluminenseFC: O segundo maior artilheiro da história do @brasileirao tinha que levar a bola do jogo pra casa! Orgulho, meu 9️⃣! #VaiTeP…\n",
            "RT @ffc_nath: o maior camisa 9 já visto no rio de janeiro.\n",
            "RT @FluminenseFC: O segundo maior artilheiro da história do @brasileirao tinha que levar a bola do jogo pra casa! Orgulho, meu 9️⃣! #VaiTeP…\n",
            "RT @GDesde1902: @FluminenseFC @Brasileirao @fredgol9 MERECE UMA ESTÁTUA EM LARANJEIRAS: https://t.co/1lrg199PCO\n",
            "RT @FluminenseFC: O segundo maior artilheiro da história do @brasileirao tinha que levar a bola do jogo pra casa! Orgulho, meu 9️⃣! #VaiTeP…\n",
            "RT @Brasileirao: ⚽️ ME PEGOU! O segundo maior artilheiro da minha história. O gol de domingo e a nova marca. Parabéns, @fredgol9! \n",
            "\n",
            "Você fa…\n",
            "RT @Brasileirao: ⚽️ ME PEGOU! O segundo maior artilheiro da minha história. O gol de domingo e a nova marca. Parabéns, @fredgol9! \n",
            "\n",
            "Você fa…\n",
            "RT @JornalDoInter: 🚀 INTER NO ELEVADOR!\n",
            "\n",
            "✅ 7º no @Brasileirao, a 1 ponto do G6 com uma partida a menos\n",
            "✅ 3ª vitória seguida\n",
            "✅ 8 jogos invic…\n",
            "RT @freire88: Athletico faz seu melhor jogo no Brasileirão, ganha opções dentro do elenco e mostra credenciais na briga por G-6; análise ht…\n",
            "@FluminenseFC @Brasileirao @fredgol9 Eu amo tanto ❤❤ https://t.co/tEWStD26Nm\n",
            "RT @FluminenseFC: O segundo maior artilheiro da história do @brasileirao tinha que levar a bola do jogo pra casa! Orgulho, meu 9️⃣! #VaiTeP…\n",
            "Esse é o Sherifāo da zaga do meu Galão\n",
            "@CarvalhalIgor_ @FluminenseFC @Brasileirao @fredgol9 Não se brinca com quem já está morto kkkkk\n",
            "RT @FluminenseFC: O segundo maior artilheiro da história do @brasileirao tinha que levar a bola do jogo pra casa! Orgulho, meu 9️⃣! #VaiTeP…\n"
          ]
        }
      ]
    },
    {
      "cell_type": "code",
      "metadata": {
        "colab": {
          "base_uri": "https://localhost:8080/"
        },
        "id": "tEisOEFd6Vtb",
        "outputId": "37d04d67-6715-4c10-8a78-ffbf3f627ff3"
      },
      "source": [
        "#Analise Kindle\n",
        "myStream.filter(\n",
        "    track=['kindle'],\n",
        "    languages=['pt']\n",
        ")"
      ],
      "execution_count": 23,
      "outputs": [
        {
          "output_type": "stream",
          "name": "stdout",
          "text": [
            "GENTEEEE NÃO ACREDITOOOOO!!!!!!  😱😱🥰\n",
            "\n",
            "a AMAZON esta dando 1 MÊS GRÁTIS de Kindle Unlimeted. 🏃🏻‍♀️\n",
            "\n",
            "Com o Kindle Unl… https://t.co/zSqm5mOits\n"
          ]
        }
      ]
    },
    {
      "cell_type": "code",
      "metadata": {
        "colab": {
          "base_uri": "https://localhost:8080/",
          "height": 204
        },
        "id": "5bzUp3fM89nG",
        "outputId": "ebfac6b3-0252-4aa5-8f5c-efa7b16cb89a"
      },
      "source": [
        "import pandas as pd\n",
        "avaliacoes = pd.read_excel('/content/reviews.xlsx')\n",
        "avaliacoes.head()"
      ],
      "execution_count": 24,
      "outputs": [
        {
          "output_type": "execute_result",
          "data": {
            "text/html": [
              "<div>\n",
              "<style scoped>\n",
              "    .dataframe tbody tr th:only-of-type {\n",
              "        vertical-align: middle;\n",
              "    }\n",
              "\n",
              "    .dataframe tbody tr th {\n",
              "        vertical-align: top;\n",
              "    }\n",
              "\n",
              "    .dataframe thead th {\n",
              "        text-align: right;\n",
              "    }\n",
              "</style>\n",
              "<table border=\"1\" class=\"dataframe\">\n",
              "  <thead>\n",
              "    <tr style=\"text-align: right;\">\n",
              "      <th></th>\n",
              "      <th>Unnamed: 0</th>\n",
              "      <th>texto</th>\n",
              "      <th>estrelas</th>\n",
              "      <th>categoria</th>\n",
              "    </tr>\n",
              "  </thead>\n",
              "  <tbody>\n",
              "    <tr>\n",
              "      <th>0</th>\n",
              "      <td>0</td>\n",
              "      <td>Não liga O produto veio com defeito e não ligo...</td>\n",
              "      <td>1</td>\n",
              "      <td>0</td>\n",
              "    </tr>\n",
              "    <tr>\n",
              "      <th>1</th>\n",
              "      <td>1</td>\n",
              "      <td>Péssima experiência Comprei o produto há cerca...</td>\n",
              "      <td>1</td>\n",
              "      <td>0</td>\n",
              "    </tr>\n",
              "    <tr>\n",
              "      <th>2</th>\n",
              "      <td>2</td>\n",
              "      <td>Nunca foi entregue Lamento informar que nunca ...</td>\n",
              "      <td>1</td>\n",
              "      <td>0</td>\n",
              "    </tr>\n",
              "    <tr>\n",
              "      <th>3</th>\n",
              "      <td>3</td>\n",
              "      <td>Kindle (cor preta) com tela sensível ao toque ...</td>\n",
              "      <td>1</td>\n",
              "      <td>0</td>\n",
              "    </tr>\n",
              "    <tr>\n",
              "      <th>4</th>\n",
              "      <td>4</td>\n",
              "      <td>KINDLE Bom dia,por favor preciso de ajuda.Sext...</td>\n",
              "      <td>1</td>\n",
              "      <td>0</td>\n",
              "    </tr>\n",
              "  </tbody>\n",
              "</table>\n",
              "</div>"
            ],
            "text/plain": [
              "   Unnamed: 0  ... categoria\n",
              "0           0  ...         0\n",
              "1           1  ...         0\n",
              "2           2  ...         0\n",
              "3           3  ...         0\n",
              "4           4  ...         0\n",
              "\n",
              "[5 rows x 4 columns]"
            ]
          },
          "metadata": {},
          "execution_count": 24
        }
      ]
    },
    {
      "cell_type": "code",
      "metadata": {
        "colab": {
          "base_uri": "https://localhost:8080/"
        },
        "id": "qHzKVlkE9DbP",
        "outputId": "ff9726b7-cfee-4c7d-fa58-0e44d9028ca5"
      },
      "source": [
        "# criar o vetor de características\n",
        "from sklearn.feature_extraction.text import TfidfVectorizer\n",
        "import nltk\n",
        "nltk.download('stopwords')"
      ],
      "execution_count": 25,
      "outputs": [
        {
          "output_type": "stream",
          "name": "stdout",
          "text": [
            "[nltk_data] Downloading package stopwords to /root/nltk_data...\n",
            "[nltk_data]   Unzipping corpora/stopwords.zip.\n"
          ]
        },
        {
          "output_type": "execute_result",
          "data": {
            "text/plain": [
              "True"
            ]
          },
          "metadata": {},
          "execution_count": 25
        }
      ]
    },
    {
      "cell_type": "code",
      "metadata": {
        "id": "jHEhzzYz9GX6"
      },
      "source": [
        "stopwords = nltk.corpus.stopwords.words('portuguese')\n",
        "stopwords = stopwords.remove('não')\n",
        "vectorizer = TfidfVectorizer(stop_words=nltk.corpus.stopwords.words('portuguese'))"
      ],
      "execution_count": 26,
      "outputs": []
    },
    {
      "cell_type": "code",
      "metadata": {
        "id": "cDv8UrLS9IeB"
      },
      "source": [
        "X = vectorizer.fit_transform(avaliacoes.texto)\n",
        "y = avaliacoes.categoria"
      ],
      "execution_count": 27,
      "outputs": []
    },
    {
      "cell_type": "code",
      "metadata": {
        "id": "lnvFmuWm9LPx"
      },
      "source": [
        "from sklearn.model_selection import train_test_split\n",
        "X_train, X_test, y_train, y_test = train_test_split(X, y, test_size=0.3, stratify=y, random_state=88)"
      ],
      "execution_count": 31,
      "outputs": []
    },
    {
      "cell_type": "code",
      "metadata": {
        "id": "CarjlivV9N23"
      },
      "source": [
        "from sklearn import tree\n",
        "dtree = tree.DecisionTreeClassifier(random_state=88)\n",
        "dtree.fit(X_train, y_train)\n",
        "\n",
        "y_predict = dtree.predict(X_test)"
      ],
      "execution_count": 32,
      "outputs": []
    },
    {
      "cell_type": "code",
      "metadata": {
        "colab": {
          "base_uri": "https://localhost:8080/"
        },
        "id": "eWRsAErw9QQ8",
        "outputId": "002b9abd-bfb3-479d-dede-ee7842018e78"
      },
      "source": [
        "#Acuracia\n",
        "from sklearn.metrics import accuracy_score\n",
        "accuracy_score(y_test, y_predict)"
      ],
      "execution_count": 35,
      "outputs": [
        {
          "output_type": "execute_result",
          "data": {
            "text/plain": [
              "0.8662175168431184"
            ]
          },
          "metadata": {},
          "execution_count": 35
        }
      ]
    },
    {
      "cell_type": "code",
      "metadata": {
        "colab": {
          "base_uri": "https://localhost:8080/"
        },
        "id": "PaS8AaBG92EO",
        "outputId": "a006ccdc-d74d-4a9c-d6fe-6caa94b3a49a"
      },
      "source": [
        "print(\"A Acuracia é relativamente boa\")"
      ],
      "execution_count": 36,
      "outputs": [
        {
          "output_type": "stream",
          "name": "stdout",
          "text": [
            "A Acuracia é relativamente boa\n"
          ]
        }
      ]
    },
    {
      "cell_type": "code",
      "metadata": {
        "id": "tk_p0jeuAD1L"
      },
      "source": [
        "#Analise do Sentimento\n",
        "#Kindle\n",
        "class MyStreamListener(tweepy.StreamListener):\n",
        "  c = 0\n",
        "  def on_status(self, status):\n",
        "    MyStreamListener.c += 1\n",
        "    texto = status.text\n",
        "    X = vectorizer.transform([texto])\n",
        "    y = dtree.predict(X)\n",
        "    print(f\"Sentimento: {y}\", status.created_at, status.user.id, texto)\n",
        "\n",
        "    if MyStreamListener.c > 10:\n",
        "      MyStreamListener.c = 0\n",
        "      return False\n",
        "  \n",
        "  def on_error(status, status_code):\n",
        "    print(f'Erro: {repr(status_code)}')"
      ],
      "execution_count": 37,
      "outputs": []
    },
    {
      "cell_type": "code",
      "metadata": {
        "id": "kb0Qx3NtAGjI"
      },
      "source": [
        "myStreamListener = MyStreamListener(api=tweepy.API(wait_on_rate_limit=True))\n",
        "myStream = tweepy.Stream(auth=auth, listener= myStreamListener)"
      ],
      "execution_count": 38,
      "outputs": []
    },
    {
      "cell_type": "code",
      "metadata": {
        "colab": {
          "base_uri": "https://localhost:8080/"
        },
        "id": "TOlD5A-cAJF5",
        "outputId": "0533f6c2-a902-441c-c69c-41ebcda542f0"
      },
      "source": [
        "#Sentimento [1] = positivo\n",
        "#Sentimento [0] = negativo\n",
        "myStream.filter(\n",
        "    track=['kindle'],\n",
        "    languages=['pt']\n",
        ")"
      ],
      "execution_count": 39,
      "outputs": [
        {
          "output_type": "stream",
          "name": "stdout",
          "text": [
            "Sentimento: [1] 2021-09-28 01:25:36 1283775113100513281 CUPOM DE DESCONTO AMAZON\n",
            "\n",
            "Ganhe 5% off na compra de seu Kindle! https://t.co/mqY5GeSOFb https://t.co/xXwZCJfEeS\n",
            "Sentimento: [1] 2021-09-28 01:26:01 1371586296603410434 @ln7crf OS MELHORES DISPOSITIVOS KINDLE EM ATÉ 12X SEM JUROS: https://t.co/b7VzPplTz4\n",
            "Sentimento: [1] 2021-09-28 01:26:07 1371586296603410434 @naaclr OS MELHORES DISPOSITIVOS KINDLE EM ATÉ 12X SEM JUROS: https://t.co/b7VzPplTz4\n",
            "Sentimento: [1] 2021-09-28 01:26:12 1371586296603410434 @33vinisofwar OS MELHORES DISPOSITIVOS KINDLE EM ATÉ 12X SEM JUROS: https://t.co/b7VzPplTz4\n",
            "Sentimento: [1] 2021-09-28 01:26:14 877348598689570817 joguei pro kindle esqueci que minha irmã usa minha conta 🤡\n",
            "Sentimento: [1] 2021-09-28 01:26:22 1411493843678212100 RT @Knjiges1: O pequeno príncipe por Barbosa, Dom Marcos https://t.co/G3xNzgDBgO via @amazon  #Booktwt #promocao #book #amoler #livrosemais…\n",
            "Sentimento: [1] 2021-09-28 01:26:23 1371586296603410434 @Marifirmog OS MELHORES DISPOSITIVOS KINDLE EM ATÉ 12X SEM JUROS: https://t.co/b7VzPplTz4\n",
            "Sentimento: [1] 2021-09-28 01:26:38 1339537508988760064 Meu bebê concorrendo ao 6° Prêmio Kindle da Literatura💜\n",
            "Sentimento: [1] 2021-09-28 01:27:59 324443150 RT @escreveyas: ‼SAIU!!‼\n",
            "\n",
            "Como Nossos Pais está finalmente na amazon!\n",
            "\n",
            "Ele está disponível no Kindle Unlimited ou 3,99 para compra. Tom, Au…\n",
            "Sentimento: [1] 2021-09-28 01:28:03 1411493843678212100 RT @Knjiges1: Admirável mundo novo por Oliveira, Vidal de https://t.co/IY753J4hNW via @amazon  #Booktwt #promocao #book #amoler #livrosemai…\n",
            "Sentimento: [1] 2021-09-28 01:28:45 1266798971235819520 orem p que eu ganhe no bingo do meu trabalho para eu ganhar um Kindle, confio na fé de vcs 🙏🏾\n"
          ]
        }
      ]
    },
    {
      "cell_type": "code",
      "metadata": {
        "colab": {
          "base_uri": "https://localhost:8080/"
        },
        "id": "90MyFYvXOkE0",
        "outputId": "9d8518f7-3b7f-4c1b-d2eb-4d6915af80d4"
      },
      "source": [
        "#Analise de HTML\n",
        "#Comentarios Netflix\n",
        "html1 = '<html><head>Pessoal, o mimo é da Aimee pra vocês. DE GRAÇA, com todo amor e carinho. E ainda não acabou, dá tempo de pedir<head><body>'\n",
        "html2 = '<html><body>tá me fazendo de palhaça querida</body></html>'\n",
        "html3 = '<html><body>Aqui também não apareceu, tentei por uma meia hora e nada</body></html>'\n",
        "html4 = '<html><body>Uma pena nao ter na minha cidade</body></html>'\n",
        "html5 = '<html><body>não tem pra minha cidade</body></html>'\n",
        "\n",
        "print(html1)\n",
        "print(html2)\n",
        "print(html3)\n",
        "print(html4)\n",
        "print(html5)"
      ],
      "execution_count": 42,
      "outputs": [
        {
          "output_type": "stream",
          "name": "stdout",
          "text": [
            "<html><head>Pessoal, o mimo é da Aimee pra vocês. DE GRAÇA, com todo amor e carinho. E ainda não acabou, dá tempo de pedir<head><body>\n",
            "<html><body>tá me fazendo de palhaça querida</body></html>\n",
            "<html><body>Aqui também não apareceu, tentei por uma meia hora e nada</body></html>\n",
            "<html><body>Uma pena nao ter na minha cidade</body></html>\n",
            "<html><body>não tem pra minha cidade</body></html>\n"
          ]
        }
      ]
    },
    {
      "cell_type": "code",
      "metadata": {
        "colab": {
          "base_uri": "https://localhost:8080/"
        },
        "id": "ZAq29jNIPYGd",
        "outputId": "a784b64b-3d95-4f64-f230-ae067084eaf5"
      },
      "source": [
        "from bs4 import BeautifulSoup\n",
        "texto1 = BeautifulSoup(html1, 'html.parser').get_text(separator=' ')\n",
        "texto2 = BeautifulSoup(html2, 'html.parser').get_text(separator= ' ')\n",
        "texto3 = BeautifulSoup(html3, 'html.parser').get_text(separator=' ')\n",
        "texto4 = BeautifulSoup(html4, 'html.parser').get_text(separator= ' ')\n",
        "texto5 = BeautifulSoup(html5, 'html.parser').get_text(separator= ' ')\n",
        "print(texto1)\n",
        "print(texto2)\n",
        "print(texto3)\n",
        "print(texto4)\n",
        "print(texto5)"
      ],
      "execution_count": 44,
      "outputs": [
        {
          "output_type": "stream",
          "name": "stdout",
          "text": [
            "Pessoal, o mimo é da Aimee pra vocês. DE GRAÇA, com todo amor e carinho. E ainda não acabou, dá tempo de pedir\n",
            "tá me fazendo de palhaça querida\n",
            "Aqui também não apareceu, tentei por uma meia hora e nada\n",
            "Uma pena nao ter na minha cidade\n",
            "não tem pra minha cidade\n"
          ]
        }
      ]
    },
    {
      "cell_type": "code",
      "metadata": {
        "colab": {
          "base_uri": "https://localhost:8080/"
        },
        "id": "Aqqey_GFS1Tx",
        "outputId": "b2ecb7bc-e153-4170-a148-f64bfcf99cf5"
      },
      "source": [
        "vectorizer = TfidfVectorizer()\n",
        "vetor = vectorizer.fit_transform([texto1, texto2, texto3, texto4, texto5])\n",
        "print(vectorizer.get_feature_names())\n",
        "print(vetor.toarray())\n",
        "print(vetor)"
      ],
      "execution_count": 45,
      "outputs": [
        {
          "output_type": "stream",
          "name": "stdout",
          "text": [
            "['acabou', 'aimee', 'ainda', 'amor', 'apareceu', 'aqui', 'carinho', 'cidade', 'com', 'da', 'de', 'dá', 'fazendo', 'graça', 'hora', 'me', 'meia', 'mimo', 'minha', 'na', 'nada', 'nao', 'não', 'palhaça', 'pedir', 'pena', 'pessoal', 'por', 'pra', 'querida', 'também', 'tem', 'tempo', 'tentei', 'ter', 'todo', 'tá', 'uma', 'vocês']\n",
            "[[0.23122952 0.23122952 0.23122952 0.23122952 0.         0.\n",
            "  0.23122952 0.         0.23122952 0.23122952 0.37310904 0.23122952\n",
            "  0.         0.23122952 0.         0.         0.         0.23122952\n",
            "  0.         0.         0.         0.         0.1548571  0.\n",
            "  0.23122952 0.         0.23122952 0.         0.18655452 0.\n",
            "  0.         0.         0.23122952 0.         0.         0.23122952\n",
            "  0.         0.         0.23122952]\n",
            " [0.         0.         0.         0.         0.         0.\n",
            "  0.         0.         0.         0.         0.33939315 0.\n",
            "  0.42066906 0.         0.         0.42066906 0.         0.\n",
            "  0.         0.         0.         0.         0.         0.42066906\n",
            "  0.         0.         0.         0.         0.         0.42066906\n",
            "  0.         0.         0.         0.         0.         0.\n",
            "  0.42066906 0.         0.        ]\n",
            " [0.         0.         0.         0.         0.33150716 0.33150716\n",
            "  0.         0.         0.         0.         0.         0.\n",
            "  0.         0.         0.33150716 0.         0.33150716 0.\n",
            "  0.         0.         0.33150716 0.         0.22201421 0.\n",
            "  0.         0.         0.         0.33150716 0.         0.\n",
            "  0.33150716 0.         0.         0.33150716 0.         0.\n",
            "  0.         0.26745789 0.        ]\n",
            " [0.         0.         0.         0.         0.         0.\n",
            "  0.         0.33067681 0.         0.         0.         0.\n",
            "  0.         0.         0.         0.         0.         0.\n",
            "  0.33067681 0.40986539 0.         0.40986539 0.         0.\n",
            "  0.         0.40986539 0.         0.         0.         0.\n",
            "  0.         0.         0.         0.         0.40986539 0.\n",
            "  0.         0.33067681 0.        ]\n",
            " [0.         0.         0.         0.         0.         0.\n",
            "  0.         0.43746414 0.         0.         0.         0.\n",
            "  0.         0.         0.         0.         0.         0.\n",
            "  0.43746414 0.         0.         0.         0.36313476 0.\n",
            "  0.         0.         0.         0.         0.43746414 0.\n",
            "  0.         0.54222553 0.         0.         0.         0.\n",
            "  0.         0.         0.        ]]\n",
            "  (0, 24)\t0.23122951621602902\n",
            "  (0, 32)\t0.23122951621602902\n",
            "  (0, 11)\t0.23122951621602902\n",
            "  (0, 0)\t0.23122951621602902\n",
            "  (0, 22)\t0.15485710188641486\n",
            "  (0, 2)\t0.23122951621602902\n",
            "  (0, 6)\t0.23122951621602902\n",
            "  (0, 3)\t0.23122951621602902\n",
            "  (0, 35)\t0.23122951621602902\n",
            "  (0, 8)\t0.23122951621602902\n",
            "  (0, 13)\t0.23122951621602902\n",
            "  (0, 10)\t0.3731090354873313\n",
            "  (0, 38)\t0.23122951621602902\n",
            "  (0, 28)\t0.18655451774366566\n",
            "  (0, 1)\t0.23122951621602902\n",
            "  (0, 9)\t0.23122951621602902\n",
            "  (0, 17)\t0.23122951621602902\n",
            "  (0, 26)\t0.23122951621602902\n",
            "  (1, 29)\t0.4206690600631704\n",
            "  (1, 23)\t0.4206690600631704\n",
            "  (1, 12)\t0.4206690600631704\n",
            "  (1, 15)\t0.4206690600631704\n",
            "  (1, 36)\t0.4206690600631704\n",
            "  (1, 10)\t0.3393931489111758\n",
            "  (2, 20)\t0.3315071585986802\n",
            "  (2, 14)\t0.3315071585986802\n",
            "  (2, 16)\t0.3315071585986802\n",
            "  (2, 37)\t0.2674578882186088\n",
            "  (2, 27)\t0.3315071585986802\n",
            "  (2, 33)\t0.3315071585986802\n",
            "  (2, 4)\t0.3315071585986802\n",
            "  (2, 30)\t0.3315071585986802\n",
            "  (2, 5)\t0.3315071585986802\n",
            "  (2, 22)\t0.22201420768112579\n",
            "  (3, 7)\t0.33067681238156543\n",
            "  (3, 18)\t0.33067681238156543\n",
            "  (3, 19)\t0.40986538560224284\n",
            "  (3, 34)\t0.40986538560224284\n",
            "  (3, 21)\t0.40986538560224284\n",
            "  (3, 25)\t0.40986538560224284\n",
            "  (3, 37)\t0.33067681238156543\n",
            "  (4, 31)\t0.5422255279709232\n",
            "  (4, 7)\t0.4374641418373903\n",
            "  (4, 18)\t0.4374641418373903\n",
            "  (4, 22)\t0.36313475547801904\n",
            "  (4, 28)\t0.4374641418373903\n"
          ]
        }
      ]
    },
    {
      "cell_type": "code",
      "metadata": {
        "colab": {
          "base_uri": "https://localhost:8080/",
          "height": 224
        },
        "id": "6CkTw30-TDPP",
        "outputId": "92791824-30c9-4cd7-9dc1-fc7567b438d2"
      },
      "source": [
        "# Contagem por ocorrência binária (BO)\n",
        "from sklearn.feature_extraction.text import TfidfVectorizer\n",
        "import pandas as pd\n",
        "\n",
        "vectorizer = TfidfVectorizer(binary=True, norm=None, use_idf=False)\n",
        "vetor = vectorizer.fit_transform([texto1, texto2, texto3, texto4, texto5])\n",
        "\n",
        "pd.DataFrame(vetor.toarray(), columns=vectorizer.get_feature_names())"
      ],
      "execution_count": 46,
      "outputs": [
        {
          "output_type": "execute_result",
          "data": {
            "text/html": [
              "<div>\n",
              "<style scoped>\n",
              "    .dataframe tbody tr th:only-of-type {\n",
              "        vertical-align: middle;\n",
              "    }\n",
              "\n",
              "    .dataframe tbody tr th {\n",
              "        vertical-align: top;\n",
              "    }\n",
              "\n",
              "    .dataframe thead th {\n",
              "        text-align: right;\n",
              "    }\n",
              "</style>\n",
              "<table border=\"1\" class=\"dataframe\">\n",
              "  <thead>\n",
              "    <tr style=\"text-align: right;\">\n",
              "      <th></th>\n",
              "      <th>acabou</th>\n",
              "      <th>aimee</th>\n",
              "      <th>ainda</th>\n",
              "      <th>amor</th>\n",
              "      <th>apareceu</th>\n",
              "      <th>aqui</th>\n",
              "      <th>carinho</th>\n",
              "      <th>cidade</th>\n",
              "      <th>com</th>\n",
              "      <th>da</th>\n",
              "      <th>de</th>\n",
              "      <th>dá</th>\n",
              "      <th>fazendo</th>\n",
              "      <th>graça</th>\n",
              "      <th>hora</th>\n",
              "      <th>me</th>\n",
              "      <th>meia</th>\n",
              "      <th>mimo</th>\n",
              "      <th>minha</th>\n",
              "      <th>na</th>\n",
              "      <th>nada</th>\n",
              "      <th>nao</th>\n",
              "      <th>não</th>\n",
              "      <th>palhaça</th>\n",
              "      <th>pedir</th>\n",
              "      <th>pena</th>\n",
              "      <th>pessoal</th>\n",
              "      <th>por</th>\n",
              "      <th>pra</th>\n",
              "      <th>querida</th>\n",
              "      <th>também</th>\n",
              "      <th>tem</th>\n",
              "      <th>tempo</th>\n",
              "      <th>tentei</th>\n",
              "      <th>ter</th>\n",
              "      <th>todo</th>\n",
              "      <th>tá</th>\n",
              "      <th>uma</th>\n",
              "      <th>vocês</th>\n",
              "    </tr>\n",
              "  </thead>\n",
              "  <tbody>\n",
              "    <tr>\n",
              "      <th>0</th>\n",
              "      <td>1.0</td>\n",
              "      <td>1.0</td>\n",
              "      <td>1.0</td>\n",
              "      <td>1.0</td>\n",
              "      <td>0.0</td>\n",
              "      <td>0.0</td>\n",
              "      <td>1.0</td>\n",
              "      <td>0.0</td>\n",
              "      <td>1.0</td>\n",
              "      <td>1.0</td>\n",
              "      <td>1.0</td>\n",
              "      <td>1.0</td>\n",
              "      <td>0.0</td>\n",
              "      <td>1.0</td>\n",
              "      <td>0.0</td>\n",
              "      <td>0.0</td>\n",
              "      <td>0.0</td>\n",
              "      <td>1.0</td>\n",
              "      <td>0.0</td>\n",
              "      <td>0.0</td>\n",
              "      <td>0.0</td>\n",
              "      <td>0.0</td>\n",
              "      <td>1.0</td>\n",
              "      <td>0.0</td>\n",
              "      <td>1.0</td>\n",
              "      <td>0.0</td>\n",
              "      <td>1.0</td>\n",
              "      <td>0.0</td>\n",
              "      <td>1.0</td>\n",
              "      <td>0.0</td>\n",
              "      <td>0.0</td>\n",
              "      <td>0.0</td>\n",
              "      <td>1.0</td>\n",
              "      <td>0.0</td>\n",
              "      <td>0.0</td>\n",
              "      <td>1.0</td>\n",
              "      <td>0.0</td>\n",
              "      <td>0.0</td>\n",
              "      <td>1.0</td>\n",
              "    </tr>\n",
              "    <tr>\n",
              "      <th>1</th>\n",
              "      <td>0.0</td>\n",
              "      <td>0.0</td>\n",
              "      <td>0.0</td>\n",
              "      <td>0.0</td>\n",
              "      <td>0.0</td>\n",
              "      <td>0.0</td>\n",
              "      <td>0.0</td>\n",
              "      <td>0.0</td>\n",
              "      <td>0.0</td>\n",
              "      <td>0.0</td>\n",
              "      <td>1.0</td>\n",
              "      <td>0.0</td>\n",
              "      <td>1.0</td>\n",
              "      <td>0.0</td>\n",
              "      <td>0.0</td>\n",
              "      <td>1.0</td>\n",
              "      <td>0.0</td>\n",
              "      <td>0.0</td>\n",
              "      <td>0.0</td>\n",
              "      <td>0.0</td>\n",
              "      <td>0.0</td>\n",
              "      <td>0.0</td>\n",
              "      <td>0.0</td>\n",
              "      <td>1.0</td>\n",
              "      <td>0.0</td>\n",
              "      <td>0.0</td>\n",
              "      <td>0.0</td>\n",
              "      <td>0.0</td>\n",
              "      <td>0.0</td>\n",
              "      <td>1.0</td>\n",
              "      <td>0.0</td>\n",
              "      <td>0.0</td>\n",
              "      <td>0.0</td>\n",
              "      <td>0.0</td>\n",
              "      <td>0.0</td>\n",
              "      <td>0.0</td>\n",
              "      <td>1.0</td>\n",
              "      <td>0.0</td>\n",
              "      <td>0.0</td>\n",
              "    </tr>\n",
              "    <tr>\n",
              "      <th>2</th>\n",
              "      <td>0.0</td>\n",
              "      <td>0.0</td>\n",
              "      <td>0.0</td>\n",
              "      <td>0.0</td>\n",
              "      <td>1.0</td>\n",
              "      <td>1.0</td>\n",
              "      <td>0.0</td>\n",
              "      <td>0.0</td>\n",
              "      <td>0.0</td>\n",
              "      <td>0.0</td>\n",
              "      <td>0.0</td>\n",
              "      <td>0.0</td>\n",
              "      <td>0.0</td>\n",
              "      <td>0.0</td>\n",
              "      <td>1.0</td>\n",
              "      <td>0.0</td>\n",
              "      <td>1.0</td>\n",
              "      <td>0.0</td>\n",
              "      <td>0.0</td>\n",
              "      <td>0.0</td>\n",
              "      <td>1.0</td>\n",
              "      <td>0.0</td>\n",
              "      <td>1.0</td>\n",
              "      <td>0.0</td>\n",
              "      <td>0.0</td>\n",
              "      <td>0.0</td>\n",
              "      <td>0.0</td>\n",
              "      <td>1.0</td>\n",
              "      <td>0.0</td>\n",
              "      <td>0.0</td>\n",
              "      <td>1.0</td>\n",
              "      <td>0.0</td>\n",
              "      <td>0.0</td>\n",
              "      <td>1.0</td>\n",
              "      <td>0.0</td>\n",
              "      <td>0.0</td>\n",
              "      <td>0.0</td>\n",
              "      <td>1.0</td>\n",
              "      <td>0.0</td>\n",
              "    </tr>\n",
              "    <tr>\n",
              "      <th>3</th>\n",
              "      <td>0.0</td>\n",
              "      <td>0.0</td>\n",
              "      <td>0.0</td>\n",
              "      <td>0.0</td>\n",
              "      <td>0.0</td>\n",
              "      <td>0.0</td>\n",
              "      <td>0.0</td>\n",
              "      <td>1.0</td>\n",
              "      <td>0.0</td>\n",
              "      <td>0.0</td>\n",
              "      <td>0.0</td>\n",
              "      <td>0.0</td>\n",
              "      <td>0.0</td>\n",
              "      <td>0.0</td>\n",
              "      <td>0.0</td>\n",
              "      <td>0.0</td>\n",
              "      <td>0.0</td>\n",
              "      <td>0.0</td>\n",
              "      <td>1.0</td>\n",
              "      <td>1.0</td>\n",
              "      <td>0.0</td>\n",
              "      <td>1.0</td>\n",
              "      <td>0.0</td>\n",
              "      <td>0.0</td>\n",
              "      <td>0.0</td>\n",
              "      <td>1.0</td>\n",
              "      <td>0.0</td>\n",
              "      <td>0.0</td>\n",
              "      <td>0.0</td>\n",
              "      <td>0.0</td>\n",
              "      <td>0.0</td>\n",
              "      <td>0.0</td>\n",
              "      <td>0.0</td>\n",
              "      <td>0.0</td>\n",
              "      <td>1.0</td>\n",
              "      <td>0.0</td>\n",
              "      <td>0.0</td>\n",
              "      <td>1.0</td>\n",
              "      <td>0.0</td>\n",
              "    </tr>\n",
              "    <tr>\n",
              "      <th>4</th>\n",
              "      <td>0.0</td>\n",
              "      <td>0.0</td>\n",
              "      <td>0.0</td>\n",
              "      <td>0.0</td>\n",
              "      <td>0.0</td>\n",
              "      <td>0.0</td>\n",
              "      <td>0.0</td>\n",
              "      <td>1.0</td>\n",
              "      <td>0.0</td>\n",
              "      <td>0.0</td>\n",
              "      <td>0.0</td>\n",
              "      <td>0.0</td>\n",
              "      <td>0.0</td>\n",
              "      <td>0.0</td>\n",
              "      <td>0.0</td>\n",
              "      <td>0.0</td>\n",
              "      <td>0.0</td>\n",
              "      <td>0.0</td>\n",
              "      <td>1.0</td>\n",
              "      <td>0.0</td>\n",
              "      <td>0.0</td>\n",
              "      <td>0.0</td>\n",
              "      <td>1.0</td>\n",
              "      <td>0.0</td>\n",
              "      <td>0.0</td>\n",
              "      <td>0.0</td>\n",
              "      <td>0.0</td>\n",
              "      <td>0.0</td>\n",
              "      <td>1.0</td>\n",
              "      <td>0.0</td>\n",
              "      <td>0.0</td>\n",
              "      <td>1.0</td>\n",
              "      <td>0.0</td>\n",
              "      <td>0.0</td>\n",
              "      <td>0.0</td>\n",
              "      <td>0.0</td>\n",
              "      <td>0.0</td>\n",
              "      <td>0.0</td>\n",
              "      <td>0.0</td>\n",
              "    </tr>\n",
              "  </tbody>\n",
              "</table>\n",
              "</div>"
            ],
            "text/plain": [
              "   acabou  aimee  ainda  amor  apareceu  ...  ter  todo   tá  uma  vocês\n",
              "0     1.0    1.0    1.0   1.0       0.0  ...  0.0   1.0  0.0  0.0    1.0\n",
              "1     0.0    0.0    0.0   0.0       0.0  ...  0.0   0.0  1.0  0.0    0.0\n",
              "2     0.0    0.0    0.0   0.0       1.0  ...  0.0   0.0  0.0  1.0    0.0\n",
              "3     0.0    0.0    0.0   0.0       0.0  ...  1.0   0.0  0.0  1.0    0.0\n",
              "4     0.0    0.0    0.0   0.0       0.0  ...  0.0   0.0  0.0  0.0    0.0\n",
              "\n",
              "[5 rows x 39 columns]"
            ]
          },
          "metadata": {},
          "execution_count": 46
        }
      ]
    },
    {
      "cell_type": "code",
      "metadata": {
        "colab": {
          "base_uri": "https://localhost:8080/",
          "height": 224
        },
        "id": "IvqLro7RTjxy",
        "outputId": "64dd1877-95e9-4140-c727-525b2d84e56e"
      },
      "source": [
        "# Contagem por frequência do termo (TF)\n",
        "from sklearn.feature_extraction.text import TfidfVectorizer\n",
        "import pandas as pd\n",
        "\n",
        "vectorizer = TfidfVectorizer(binary=False, norm='l1', use_idf=False)\n",
        "vetor = vectorizer.fit_transform([texto1, texto2, texto3, texto4, texto5])\n",
        "\n",
        "pd.DataFrame(vetor.toarray(), columns=vectorizer.get_feature_names())"
      ],
      "execution_count": 47,
      "outputs": [
        {
          "output_type": "execute_result",
          "data": {
            "text/html": [
              "<div>\n",
              "<style scoped>\n",
              "    .dataframe tbody tr th:only-of-type {\n",
              "        vertical-align: middle;\n",
              "    }\n",
              "\n",
              "    .dataframe tbody tr th {\n",
              "        vertical-align: top;\n",
              "    }\n",
              "\n",
              "    .dataframe thead th {\n",
              "        text-align: right;\n",
              "    }\n",
              "</style>\n",
              "<table border=\"1\" class=\"dataframe\">\n",
              "  <thead>\n",
              "    <tr style=\"text-align: right;\">\n",
              "      <th></th>\n",
              "      <th>acabou</th>\n",
              "      <th>aimee</th>\n",
              "      <th>ainda</th>\n",
              "      <th>amor</th>\n",
              "      <th>apareceu</th>\n",
              "      <th>aqui</th>\n",
              "      <th>carinho</th>\n",
              "      <th>cidade</th>\n",
              "      <th>com</th>\n",
              "      <th>da</th>\n",
              "      <th>de</th>\n",
              "      <th>dá</th>\n",
              "      <th>fazendo</th>\n",
              "      <th>graça</th>\n",
              "      <th>hora</th>\n",
              "      <th>me</th>\n",
              "      <th>meia</th>\n",
              "      <th>mimo</th>\n",
              "      <th>minha</th>\n",
              "      <th>na</th>\n",
              "      <th>nada</th>\n",
              "      <th>nao</th>\n",
              "      <th>não</th>\n",
              "      <th>palhaça</th>\n",
              "      <th>pedir</th>\n",
              "      <th>pena</th>\n",
              "      <th>pessoal</th>\n",
              "      <th>por</th>\n",
              "      <th>pra</th>\n",
              "      <th>querida</th>\n",
              "      <th>também</th>\n",
              "      <th>tem</th>\n",
              "      <th>tempo</th>\n",
              "      <th>tentei</th>\n",
              "      <th>ter</th>\n",
              "      <th>todo</th>\n",
              "      <th>tá</th>\n",
              "      <th>uma</th>\n",
              "      <th>vocês</th>\n",
              "    </tr>\n",
              "  </thead>\n",
              "  <tbody>\n",
              "    <tr>\n",
              "      <th>0</th>\n",
              "      <td>0.052632</td>\n",
              "      <td>0.052632</td>\n",
              "      <td>0.052632</td>\n",
              "      <td>0.052632</td>\n",
              "      <td>0.0</td>\n",
              "      <td>0.0</td>\n",
              "      <td>0.052632</td>\n",
              "      <td>0.000000</td>\n",
              "      <td>0.052632</td>\n",
              "      <td>0.052632</td>\n",
              "      <td>0.105263</td>\n",
              "      <td>0.052632</td>\n",
              "      <td>0.000000</td>\n",
              "      <td>0.052632</td>\n",
              "      <td>0.0</td>\n",
              "      <td>0.000000</td>\n",
              "      <td>0.0</td>\n",
              "      <td>0.052632</td>\n",
              "      <td>0.000000</td>\n",
              "      <td>0.000000</td>\n",
              "      <td>0.0</td>\n",
              "      <td>0.000000</td>\n",
              "      <td>0.052632</td>\n",
              "      <td>0.000000</td>\n",
              "      <td>0.052632</td>\n",
              "      <td>0.000000</td>\n",
              "      <td>0.052632</td>\n",
              "      <td>0.0</td>\n",
              "      <td>0.052632</td>\n",
              "      <td>0.000000</td>\n",
              "      <td>0.0</td>\n",
              "      <td>0.0</td>\n",
              "      <td>0.052632</td>\n",
              "      <td>0.0</td>\n",
              "      <td>0.000000</td>\n",
              "      <td>0.052632</td>\n",
              "      <td>0.000000</td>\n",
              "      <td>0.000000</td>\n",
              "      <td>0.052632</td>\n",
              "    </tr>\n",
              "    <tr>\n",
              "      <th>1</th>\n",
              "      <td>0.000000</td>\n",
              "      <td>0.000000</td>\n",
              "      <td>0.000000</td>\n",
              "      <td>0.000000</td>\n",
              "      <td>0.0</td>\n",
              "      <td>0.0</td>\n",
              "      <td>0.000000</td>\n",
              "      <td>0.000000</td>\n",
              "      <td>0.000000</td>\n",
              "      <td>0.000000</td>\n",
              "      <td>0.166667</td>\n",
              "      <td>0.000000</td>\n",
              "      <td>0.166667</td>\n",
              "      <td>0.000000</td>\n",
              "      <td>0.0</td>\n",
              "      <td>0.166667</td>\n",
              "      <td>0.0</td>\n",
              "      <td>0.000000</td>\n",
              "      <td>0.000000</td>\n",
              "      <td>0.000000</td>\n",
              "      <td>0.0</td>\n",
              "      <td>0.000000</td>\n",
              "      <td>0.000000</td>\n",
              "      <td>0.166667</td>\n",
              "      <td>0.000000</td>\n",
              "      <td>0.000000</td>\n",
              "      <td>0.000000</td>\n",
              "      <td>0.0</td>\n",
              "      <td>0.000000</td>\n",
              "      <td>0.166667</td>\n",
              "      <td>0.0</td>\n",
              "      <td>0.0</td>\n",
              "      <td>0.000000</td>\n",
              "      <td>0.0</td>\n",
              "      <td>0.000000</td>\n",
              "      <td>0.000000</td>\n",
              "      <td>0.166667</td>\n",
              "      <td>0.000000</td>\n",
              "      <td>0.000000</td>\n",
              "    </tr>\n",
              "    <tr>\n",
              "      <th>2</th>\n",
              "      <td>0.000000</td>\n",
              "      <td>0.000000</td>\n",
              "      <td>0.000000</td>\n",
              "      <td>0.000000</td>\n",
              "      <td>0.1</td>\n",
              "      <td>0.1</td>\n",
              "      <td>0.000000</td>\n",
              "      <td>0.000000</td>\n",
              "      <td>0.000000</td>\n",
              "      <td>0.000000</td>\n",
              "      <td>0.000000</td>\n",
              "      <td>0.000000</td>\n",
              "      <td>0.000000</td>\n",
              "      <td>0.000000</td>\n",
              "      <td>0.1</td>\n",
              "      <td>0.000000</td>\n",
              "      <td>0.1</td>\n",
              "      <td>0.000000</td>\n",
              "      <td>0.000000</td>\n",
              "      <td>0.000000</td>\n",
              "      <td>0.1</td>\n",
              "      <td>0.000000</td>\n",
              "      <td>0.100000</td>\n",
              "      <td>0.000000</td>\n",
              "      <td>0.000000</td>\n",
              "      <td>0.000000</td>\n",
              "      <td>0.000000</td>\n",
              "      <td>0.1</td>\n",
              "      <td>0.000000</td>\n",
              "      <td>0.000000</td>\n",
              "      <td>0.1</td>\n",
              "      <td>0.0</td>\n",
              "      <td>0.000000</td>\n",
              "      <td>0.1</td>\n",
              "      <td>0.000000</td>\n",
              "      <td>0.000000</td>\n",
              "      <td>0.000000</td>\n",
              "      <td>0.100000</td>\n",
              "      <td>0.000000</td>\n",
              "    </tr>\n",
              "    <tr>\n",
              "      <th>3</th>\n",
              "      <td>0.000000</td>\n",
              "      <td>0.000000</td>\n",
              "      <td>0.000000</td>\n",
              "      <td>0.000000</td>\n",
              "      <td>0.0</td>\n",
              "      <td>0.0</td>\n",
              "      <td>0.000000</td>\n",
              "      <td>0.142857</td>\n",
              "      <td>0.000000</td>\n",
              "      <td>0.000000</td>\n",
              "      <td>0.000000</td>\n",
              "      <td>0.000000</td>\n",
              "      <td>0.000000</td>\n",
              "      <td>0.000000</td>\n",
              "      <td>0.0</td>\n",
              "      <td>0.000000</td>\n",
              "      <td>0.0</td>\n",
              "      <td>0.000000</td>\n",
              "      <td>0.142857</td>\n",
              "      <td>0.142857</td>\n",
              "      <td>0.0</td>\n",
              "      <td>0.142857</td>\n",
              "      <td>0.000000</td>\n",
              "      <td>0.000000</td>\n",
              "      <td>0.000000</td>\n",
              "      <td>0.142857</td>\n",
              "      <td>0.000000</td>\n",
              "      <td>0.0</td>\n",
              "      <td>0.000000</td>\n",
              "      <td>0.000000</td>\n",
              "      <td>0.0</td>\n",
              "      <td>0.0</td>\n",
              "      <td>0.000000</td>\n",
              "      <td>0.0</td>\n",
              "      <td>0.142857</td>\n",
              "      <td>0.000000</td>\n",
              "      <td>0.000000</td>\n",
              "      <td>0.142857</td>\n",
              "      <td>0.000000</td>\n",
              "    </tr>\n",
              "    <tr>\n",
              "      <th>4</th>\n",
              "      <td>0.000000</td>\n",
              "      <td>0.000000</td>\n",
              "      <td>0.000000</td>\n",
              "      <td>0.000000</td>\n",
              "      <td>0.0</td>\n",
              "      <td>0.0</td>\n",
              "      <td>0.000000</td>\n",
              "      <td>0.200000</td>\n",
              "      <td>0.000000</td>\n",
              "      <td>0.000000</td>\n",
              "      <td>0.000000</td>\n",
              "      <td>0.000000</td>\n",
              "      <td>0.000000</td>\n",
              "      <td>0.000000</td>\n",
              "      <td>0.0</td>\n",
              "      <td>0.000000</td>\n",
              "      <td>0.0</td>\n",
              "      <td>0.000000</td>\n",
              "      <td>0.200000</td>\n",
              "      <td>0.000000</td>\n",
              "      <td>0.0</td>\n",
              "      <td>0.000000</td>\n",
              "      <td>0.200000</td>\n",
              "      <td>0.000000</td>\n",
              "      <td>0.000000</td>\n",
              "      <td>0.000000</td>\n",
              "      <td>0.000000</td>\n",
              "      <td>0.0</td>\n",
              "      <td>0.200000</td>\n",
              "      <td>0.000000</td>\n",
              "      <td>0.0</td>\n",
              "      <td>0.2</td>\n",
              "      <td>0.000000</td>\n",
              "      <td>0.0</td>\n",
              "      <td>0.000000</td>\n",
              "      <td>0.000000</td>\n",
              "      <td>0.000000</td>\n",
              "      <td>0.000000</td>\n",
              "      <td>0.000000</td>\n",
              "    </tr>\n",
              "  </tbody>\n",
              "</table>\n",
              "</div>"
            ],
            "text/plain": [
              "     acabou     aimee     ainda  ...        tá       uma     vocês\n",
              "0  0.052632  0.052632  0.052632  ...  0.000000  0.000000  0.052632\n",
              "1  0.000000  0.000000  0.000000  ...  0.166667  0.000000  0.000000\n",
              "2  0.000000  0.000000  0.000000  ...  0.000000  0.100000  0.000000\n",
              "3  0.000000  0.000000  0.000000  ...  0.000000  0.142857  0.000000\n",
              "4  0.000000  0.000000  0.000000  ...  0.000000  0.000000  0.000000\n",
              "\n",
              "[5 rows x 39 columns]"
            ]
          },
          "metadata": {},
          "execution_count": 47
        }
      ]
    },
    {
      "cell_type": "code",
      "metadata": {
        "colab": {
          "base_uri": "https://localhost:8080/",
          "height": 165
        },
        "id": "HbdEQXP4UESy",
        "outputId": "99bd88d0-241a-4686-be9d-698c7089bf86"
      },
      "source": [
        "# Utilizar 'token_pattern' para definir como será um token e Utilizar 'stop_words' para remover stopwords\n",
        "from sklearn.feature_extraction.text import TfidfVectorizer\n",
        "import pandas as pd\n",
        "import nltk\n",
        "nltk.download('stopwords')\n",
        "\n",
        "vectorizer = TfidfVectorizer(\n",
        "    token_pattern = r'\\b[^\\W\\d]{3,}\\b',\n",
        "    stop_words = nltk.corpus.stopwords.words('portuguese')\n",
        ")\n",
        "vetor = vectorizer.fit_transform([texto1, texto2])\n",
        "# print(vectorizer.get_feature_names())\n",
        "# print(vetor.toarray())\n",
        "# print(vetor)\n",
        "pd.DataFrame(vetor.toarray(), columns=vectorizer.get_feature_names())"
      ],
      "execution_count": 52,
      "outputs": [
        {
          "output_type": "stream",
          "name": "stdout",
          "text": [
            "[nltk_data] Downloading package stopwords to /root/nltk_data...\n",
            "[nltk_data]   Package stopwords is already up-to-date!\n"
          ]
        },
        {
          "output_type": "execute_result",
          "data": {
            "text/html": [
              "<div>\n",
              "<style scoped>\n",
              "    .dataframe tbody tr th:only-of-type {\n",
              "        vertical-align: middle;\n",
              "    }\n",
              "\n",
              "    .dataframe tbody tr th {\n",
              "        vertical-align: top;\n",
              "    }\n",
              "\n",
              "    .dataframe thead th {\n",
              "        text-align: right;\n",
              "    }\n",
              "</style>\n",
              "<table border=\"1\" class=\"dataframe\">\n",
              "  <thead>\n",
              "    <tr style=\"text-align: right;\">\n",
              "      <th></th>\n",
              "      <th>acabou</th>\n",
              "      <th>aimee</th>\n",
              "      <th>ainda</th>\n",
              "      <th>amor</th>\n",
              "      <th>carinho</th>\n",
              "      <th>fazendo</th>\n",
              "      <th>graça</th>\n",
              "      <th>mimo</th>\n",
              "      <th>palhaça</th>\n",
              "      <th>pedir</th>\n",
              "      <th>pessoal</th>\n",
              "      <th>pra</th>\n",
              "      <th>querida</th>\n",
              "      <th>tempo</th>\n",
              "      <th>todo</th>\n",
              "    </tr>\n",
              "  </thead>\n",
              "  <tbody>\n",
              "    <tr>\n",
              "      <th>0</th>\n",
              "      <td>0.288675</td>\n",
              "      <td>0.288675</td>\n",
              "      <td>0.288675</td>\n",
              "      <td>0.288675</td>\n",
              "      <td>0.288675</td>\n",
              "      <td>0.00000</td>\n",
              "      <td>0.288675</td>\n",
              "      <td>0.288675</td>\n",
              "      <td>0.00000</td>\n",
              "      <td>0.288675</td>\n",
              "      <td>0.288675</td>\n",
              "      <td>0.288675</td>\n",
              "      <td>0.00000</td>\n",
              "      <td>0.288675</td>\n",
              "      <td>0.288675</td>\n",
              "    </tr>\n",
              "    <tr>\n",
              "      <th>1</th>\n",
              "      <td>0.000000</td>\n",
              "      <td>0.000000</td>\n",
              "      <td>0.000000</td>\n",
              "      <td>0.000000</td>\n",
              "      <td>0.000000</td>\n",
              "      <td>0.57735</td>\n",
              "      <td>0.000000</td>\n",
              "      <td>0.000000</td>\n",
              "      <td>0.57735</td>\n",
              "      <td>0.000000</td>\n",
              "      <td>0.000000</td>\n",
              "      <td>0.000000</td>\n",
              "      <td>0.57735</td>\n",
              "      <td>0.000000</td>\n",
              "      <td>0.000000</td>\n",
              "    </tr>\n",
              "  </tbody>\n",
              "</table>\n",
              "</div>"
            ],
            "text/plain": [
              "     acabou     aimee     ainda  ...  querida     tempo      todo\n",
              "0  0.288675  0.288675  0.288675  ...  0.00000  0.288675  0.288675\n",
              "1  0.000000  0.000000  0.000000  ...  0.57735  0.000000  0.000000\n",
              "\n",
              "[2 rows x 15 columns]"
            ]
          },
          "metadata": {},
          "execution_count": 52
        }
      ]
    }
  ]
}