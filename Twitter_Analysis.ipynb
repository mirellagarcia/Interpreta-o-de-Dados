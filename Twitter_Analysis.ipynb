{
  "nbformat": 4,
  "nbformat_minor": 0,
  "metadata": {
    "colab": {
      "name": "Twitter_Analysis",
      "provenance": [],
      "include_colab_link": true
    },
    "kernelspec": {
      "name": "python3",
      "display_name": "Python 3"
    },
    "language_info": {
      "name": "python"
    }
  },
  "cells": [
    {
      "cell_type": "markdown",
      "metadata": {
        "id": "view-in-github",
        "colab_type": "text"
      },
      "source": [
        "<a href=\"https://colab.research.google.com/github/mirellagarcia/interpretando_dados/blob/main/Twitter_Analysis.ipynb\" target=\"_parent\"><img src=\"https://colab.research.google.com/assets/colab-badge.svg\" alt=\"Open In Colab\"/></a>"
      ]
    },
    {
      "cell_type": "code",
      "metadata": {
        "id": "QtMeJfN8SdOA",
        "colab": {
          "base_uri": "https://localhost:8080/"
        },
        "outputId": "d150d8e0-6c98-463d-aa9a-246f63e88fff"
      },
      "source": [
        "# instalar tweepy - para jupyter notebook\n",
        "! pip install tweepy"
      ],
      "execution_count": 1,
      "outputs": [
        {
          "output_type": "stream",
          "name": "stdout",
          "text": [
            "Requirement already satisfied: tweepy in /usr/local/lib/python3.7/dist-packages (3.10.0)\n",
            "Requirement already satisfied: six>=1.10.0 in /usr/local/lib/python3.7/dist-packages (from tweepy) (1.15.0)\n",
            "Requirement already satisfied: requests[socks]>=2.11.1 in /usr/local/lib/python3.7/dist-packages (from tweepy) (2.23.0)\n",
            "Requirement already satisfied: requests-oauthlib>=0.7.0 in /usr/local/lib/python3.7/dist-packages (from tweepy) (1.3.0)\n",
            "Requirement already satisfied: oauthlib>=3.0.0 in /usr/local/lib/python3.7/dist-packages (from requests-oauthlib>=0.7.0->tweepy) (3.1.1)\n",
            "Requirement already satisfied: idna<3,>=2.5 in /usr/local/lib/python3.7/dist-packages (from requests[socks]>=2.11.1->tweepy) (2.10)\n",
            "Requirement already satisfied: urllib3!=1.25.0,!=1.25.1,<1.26,>=1.21.1 in /usr/local/lib/python3.7/dist-packages (from requests[socks]>=2.11.1->tweepy) (1.24.3)\n",
            "Requirement already satisfied: certifi>=2017.4.17 in /usr/local/lib/python3.7/dist-packages (from requests[socks]>=2.11.1->tweepy) (2021.5.30)\n",
            "Requirement already satisfied: chardet<4,>=3.0.2 in /usr/local/lib/python3.7/dist-packages (from requests[socks]>=2.11.1->tweepy) (3.0.4)\n",
            "Requirement already satisfied: PySocks!=1.5.7,>=1.5.6 in /usr/local/lib/python3.7/dist-packages (from requests[socks]>=2.11.1->tweepy) (1.7.1)\n"
          ]
        }
      ]
    },
    {
      "cell_type": "code",
      "metadata": {
        "id": "JXcyA983Yw0i"
      },
      "source": [
        "import tweepy"
      ],
      "execution_count": 2,
      "outputs": []
    },
    {
      "cell_type": "code",
      "metadata": {
        "id": "ShBYA1gPZBhS"
      },
      "source": [
        "API_KEY = 'AeNPHdJUqw9harxVrQ2fFTxCt'\n",
        "API_SECRET = 'qNtvetvaaWSpS5BH7372NOJnyOf96NIM5F03aRhYV2dWxFdJOC'\n",
        "ACCESS_TOKEN = '155108745-Hk0wdYvQA0BCtjkUIQIXWbIeWcmnGzJQe4IJkfzp'\n",
        "ACCESS_SECRET = 'Q7TXWr90m7UOJ00kmLaYHbcDeRyeyucZn32ILSBKkJzdw'"
      ],
      "execution_count": 7,
      "outputs": []
    },
    {
      "cell_type": "code",
      "metadata": {
        "id": "Xa-oGXEpZiyz"
      },
      "source": [
        "auth = tweepy.OAuthHandler(API_KEY, API_SECRET)\n",
        "auth.set_access_token(ACCESS_TOKEN, ACCESS_SECRET)\n",
        "api = tweepy.API(auth)"
      ],
      "execution_count": 8,
      "outputs": []
    },
    {
      "cell_type": "code",
      "metadata": {
        "colab": {
          "base_uri": "https://localhost:8080/"
        },
        "id": "JH9-NmTtZ80k",
        "outputId": "d1d889a7-10d5-4e09-bbdd-77dcab192e9b"
      },
      "source": [
        "# Tweets da timeline do usuário autenticado\n",
        "tweets = tweepy.Cursor(api.home_timeline)\n",
        "items = tweets.items(5)\n",
        "for status in items:\n",
        "  print(status.text, '\\n')"
      ],
      "execution_count": 9,
      "outputs": [
        {
          "output_type": "stream",
          "name": "stdout",
          "text": [
            "Cheguei tarde https://t.co/6m1zrbrFKK \n",
            "\n",
            "já viu quanto tá o euro? cada conta, uma lágrima kkkrying https://t.co/HUDqY2m4dV \n",
            "\n",
            "Esposa de cantor sertanejo encontrado morto desabafa e comove: ‘Não sei como falar para o meu filho’ https://t.co/MSBGAodb6d \n",
            "\n",
            "Cerca de 4.600 pesquisas científicas são encerradas após jovem realizar postagem no TikTok https://t.co/xN18SCpgST \n",
            "\n",
            "https://t.co/w2kY1UOAZt \n",
            "\n"
          ]
        }
      ]
    },
    {
      "cell_type": "code",
      "metadata": {
        "colab": {
          "base_uri": "https://localhost:8080/"
        },
        "id": "7Op3WnV9dMzI",
        "outputId": "e6751ae9-64a6-4be2-e4c1-598656b6f383"
      },
      "source": [
        "#tweets de um usuário do twitter (tweet parcial)\n",
        "tweets = tweepy.Cursor(api.user_timeline, \"mirellagarciia\")\n",
        "for status in tweets.items(5):\n",
        "  print(status.text, '\\n')\n"
      ],
      "execution_count": 21,
      "outputs": [
        {
          "output_type": "stream",
          "name": "stdout",
          "text": [
            "@htaayla Até eu queria \n",
            "\n",
            "RT @medosobscuros: Tem gente que te ensina tanta coisa, que quando você aprende, você nunca mais quer ver a pessoa. \n",
            "\n",
            "RT @lhmandetta: Oremos. Força SUS. Ciência. Paciência. Fé! \n",
            "\n",
            "#FicaEmCasa \n",
            "\n",
            "@htaayla Serena queen vanderwoodsen \n",
            "\n",
            "@htaayla E seu cupuaçu? \n",
            "\n"
          ]
        }
      ]
    },
    {
      "cell_type": "code",
      "metadata": {
        "colab": {
          "base_uri": "https://localhost:8080/"
        },
        "id": "TcA41cAAeXWv",
        "outputId": "aa39a094-ba2f-4ed9-87ea-75644113d2ba"
      },
      "source": [
        "# tweets de um usuário do twitter (Tweet completo)\n",
        "tweets = tweepy.Cursor(\n",
        "    api.user_timeline, \n",
        "    \"sbcbrasil\", \n",
        "    tweet_mode=\"extended\"\n",
        ")\n",
        "for status in tweets.items(5):\n",
        "  print(status.full_text, '\\n')"
      ],
      "execution_count": 13,
      "outputs": [
        {
          "output_type": "stream",
          "name": "stdout",
          "text": [
            "Atenção, estudantes de graduação e pós-graduação. \n",
            "A Escola Regional de Redes de Computadores (ERRC), está com inscrições abertas!\n",
            "Inscreva-se em:https://t.co/gOl0DXNGQ4\n",
            "#ERRC2021 #EscolaRegional #ERRC #RededeComputadores #SBC https://t.co/R4v1X7QxnJ \n",
            "\n",
            "@manoelvsnt E aí, Manoel, beleza? Nossa posição é contrária à exigência de registro do Engenheiro de Software no CREA. Podemos fazer um fio a respeito qualquer dia, mas você também pode ver nosso posicionamento no site &gt;&gt; https://t.co/Kap0lcsyHe \n",
            "\n",
            "@elixir_utfpr Usamos um gerenciador de conteúdo e deu ruim 🤦‍♀️ \n",
            "\n",
            "@elixir_utfpr Gratos pela partilha! \n",
            "\n",
            "Mas não somos contra o diploma, pelo contrário: valorizamos o diploma de curso superior como instrumento diferenciador de capacidade tecno-científica e indicador de elevado potencial de competência profissional. \n",
            "\n"
          ]
        }
      ]
    },
    {
      "cell_type": "code",
      "metadata": {
        "id": "fdKGOUs4a9Ja",
        "colab": {
          "base_uri": "https://localhost:8080/"
        },
        "outputId": "05c745ed-415a-42ec-db55-6cea80ce66b6"
      },
      "source": [
        "# Buscar por tweets contendo algum texto\n",
        "tweets = tweepy.Cursor(\n",
        "    api.search,\n",
        "    q='\"inteligência artificial\"',\n",
        "    tweet_mode=\"extended\"\n",
        ")\n",
        "\n",
        "for status in tweets.items(5):\n",
        "  print(status.full_text, '\\n')"
      ],
      "execution_count": 18,
      "outputs": [
        {
          "output_type": "stream",
          "name": "stdout",
          "text": [
            "RT @SeriesBrasil: Black Mirror, temos visitas... 🖥️\n",
            "\n",
            "Um canadense criou uma inteligência artificial que é capaz de simular conversas com su… \n",
            "\n",
            "RT @tilabgf: usei inteligencia artificial pra pintar um cyber camelô https://t.co/wyPZb7xDLt \n",
            "\n",
            "RT @SeriesBrasil: Black Mirror, temos visitas... 🖥️\n",
            "\n",
            "Um canadense criou uma inteligência artificial que é capaz de simular conversas com su… \n",
            "\n",
            "RT @PauloBotta_1974: A lo largo de la última semana el Reino Unido publicó una estrategia de Inteligencia Artificial (22/SEP) y una estrate… \n",
            "\n",
            "RT @fuckinpablert: Cada día que pasa Ricky Rubio se parece más al retrato de Jesucristo que hicieron con inteligencia artificial. https://t… \n",
            "\n"
          ]
        }
      ]
    },
    {
      "cell_type": "code",
      "metadata": {
        "colab": {
          "base_uri": "https://localhost:8080/"
        },
        "id": "QHfsSyc7e4-O",
        "outputId": "a34186a2-051d-480a-d8ab-9e68a1c2d22a"
      },
      "source": [
        "# Buscar por tweets contendo algum texto\n",
        "tweets = tweepy.Cursor(\n",
        "    api.search,\n",
        "    q='\"Tecnologia\"',\n",
        "    tweet_mode=\"extended\"\n",
        ")\n",
        "\n",
        "for status in tweets.items(5):\n",
        "  print(status.full_text, '\\n')"
      ],
      "execution_count": 19,
      "outputs": [
        {
          "output_type": "stream",
          "name": "stdout",
          "text": [
            "RT @elpaismexico: Facebook ha decidido retrasar el desarrollo de un Instagram para menores de 13 años, que había bautizado como Instagram K… \n",
            "\n",
            "RT @007Lola_Mento: Que la FGR también investigue a Mariana Imaz Sheinbaum por obtener un beneficio indebido\n",
            "\n",
            "Qué tiene que ver la ciencia y… \n",
            "\n",
            "RT @ElisaLoncon: 6- Comisión sobre sistemas de justicia, órganos autónomos de control y reforma constitucional.\n",
            "7-Comisión sobre sistemas d… \n",
            "\n",
            "RT @TETEXGIRL: En un canal coreano llamado “단골이슈” entrevistaron a algunos australianos sobre temas de Corea y Japón, cuando preguntaron “¿Q… \n",
            "\n",
            "tecnoveste_esp: A missão do @tecnoveste é apresentar a tecnologia ⚙ e a ciência 🧪 como meios para se atingir estilo de vida #produtivo 👩🏻💻, #acessível 🦻 e #sustentável ♻. Fazemos isso aqui:\n",
            "https://t.co/O5DvPmywIa\n",
            "\n",
            "🎤@tecnoveste_cast\n",
            "🕹@tecnoveste… https://t.co/sgylp4jWwY \n",
            "\n"
          ]
        }
      ]
    },
    {
      "cell_type": "code",
      "metadata": {
        "colab": {
          "base_uri": "https://localhost:8080/"
        },
        "id": "3nuZuixhe9q-",
        "outputId": "dd02d268-fb00-478b-cdcc-df98eaf5754d"
      },
      "source": [
        "# Buscar por tweets contendo algum texto\n",
        "tweets = tweepy.Cursor(\n",
        "    api.search,\n",
        "    q='\"Covid\"',\n",
        "    tweet_mode=\"extended\"\n",
        ")\n",
        "\n",
        "for status in tweets.items(5):\n",
        "  print(status.full_text, '\\n')"
      ],
      "execution_count": 20,
      "outputs": [
        {
          "output_type": "stream",
          "name": "stdout",
          "text": [
            "RT @pzl17: Este Bono Demuestra las Grandes Desigualdades en las q Incurre la Patronal Gobierno, El Bono \"Combate Contra el Covid 19\" Solo s… \n",
            "\n",
            "RT @ProudOldSoldier: Dan Andrews cuts elective surgery by 50% this week \"in case\" COVID numbers increase. People are suffering and even dyi… \n",
            "\n",
            "RT @byoblu: Una donna ha rotto il silenzio delle Istituzioni sul green pass. Il discorso del vice questore della Polizia, Nunzia Alessandra… \n",
            "\n",
            "RT @LolaMotz: @KyleKulinski The worst thing about vaccine mandates is that they are part of government propaganda that there is nothing els… \n",
            "\n",
            "RT @davidmweissman: Raise your hand if you got vaccinated for COVID as soon as you possibly could.\n",
            "\n",
            "Please help restore my faith in America… \n",
            "\n"
          ]
        }
      ]
    },
    {
      "cell_type": "code",
      "metadata": {
        "colab": {
          "base_uri": "https://localhost:8080/"
        },
        "id": "PFTAeDFUfEct",
        "outputId": "df9f5dc0-fbc3-4cc3-c042-b03e164d4e91"
      },
      "source": [
        "# Buscar por tweets contendo algum texto\n",
        "tweets = tweepy.Cursor(\n",
        "    api.search,\n",
        "    q=f'Rock in Rio',\n",
        "    lang='pt',\n",
        "    since='2020-09-24', # desde essa data\n",
        "    until='2021-09-25', # até essa data    \n",
        "    tweet_mode=\"extended\"\n",
        ")\n",
        "\n",
        "for status in tweets.items(5):\n",
        "  print(status.full_text, '\\n####\\n')"
      ],
      "execution_count": 22,
      "outputs": [
        {
          "output_type": "stream",
          "name": "stdout",
          "text": [
            "@rudyftcline quero meu codiguin, vc tb disse que ia recarregar dima p mim, quero tb meu gato, me levar pro rock in rio e várias outras coisas \n",
            "####\n",
            "\n",
            "RT @henccbru: Bruno Mars nos trends novamente porque todo mundo quer o homem no Rock In Rio https://t.co/VGKJkhDQeX \n",
            "####\n",
            "\n",
            "se o rock in rio fizesse um palco de samba e pagode eu seria a pessoa mais feliz do mundo \n",
            "####\n",
            "\n",
            "tão tentando hackear minha conta do ingresso do rock in rio??? eu n solicitei nada https://t.co/PCOOomo7He \n",
            "####\n",
            "\n",
            "RT @ComenteiEDai: A galera do filme do rock in Rio tentando surfar no hype de a menina que matou os pais kkkkkkk Carla Diaz é momento!!\n",
            "Tá… \n",
            "####\n",
            "\n"
          ]
        }
      ]
    },
    {
      "cell_type": "code",
      "metadata": {
        "colab": {
          "base_uri": "https://localhost:8080/"
        },
        "id": "39al7g9llMLR",
        "outputId": "7d20a816-e2fb-4f82-eec7-651e815a41cb"
      },
      "source": [
        "import json\n",
        "print(json.dumps(status._json, indent=4))"
      ],
      "execution_count": 23,
      "outputs": [
        {
          "output_type": "stream",
          "name": "stdout",
          "text": [
            "{\n",
            "    \"created_at\": \"Fri Sep 24 23:59:32 +0000 2021\",\n",
            "    \"id\": 1441552915814961152,\n",
            "    \"id_str\": \"1441552915814961152\",\n",
            "    \"full_text\": \"RT @ComenteiEDai: A galera do filme do rock in Rio tentando surfar no hype de a menina que matou os pais kkkkkkk Carla Diaz \\u00e9 momento!!\\nT\\u00e1\\u2026\",\n",
            "    \"truncated\": false,\n",
            "    \"display_text_range\": [\n",
            "        0,\n",
            "        139\n",
            "    ],\n",
            "    \"entities\": {\n",
            "        \"hashtags\": [],\n",
            "        \"symbols\": [],\n",
            "        \"user_mentions\": [\n",
            "            {\n",
            "                \"screen_name\": \"ComenteiEDai\",\n",
            "                \"name\": \"Ana\",\n",
            "                \"id\": 1372685897351716868,\n",
            "                \"id_str\": \"1372685897351716868\",\n",
            "                \"indices\": [\n",
            "                    3,\n",
            "                    16\n",
            "                ]\n",
            "            }\n",
            "        ],\n",
            "        \"urls\": []\n",
            "    },\n",
            "    \"metadata\": {\n",
            "        \"iso_language_code\": \"pt\",\n",
            "        \"result_type\": \"recent\"\n",
            "    },\n",
            "    \"source\": \"<a href=\\\"http://twitter.com/download/android\\\" rel=\\\"nofollow\\\">Twitter for Android</a>\",\n",
            "    \"in_reply_to_status_id\": null,\n",
            "    \"in_reply_to_status_id_str\": null,\n",
            "    \"in_reply_to_user_id\": null,\n",
            "    \"in_reply_to_user_id_str\": null,\n",
            "    \"in_reply_to_screen_name\": null,\n",
            "    \"user\": {\n",
            "        \"id\": 1293984843672543238,\n",
            "        \"id_str\": \"1293984843672543238\",\n",
            "        \"name\": \"marcela \\ud83e\\udd8b\",\n",
            "        \"screen_name\": \"marcelatuita\",\n",
            "        \"location\": \"S\\u00e3o Paulo, Brasil\",\n",
            "        \"description\": \"f\\u00e3 de uma estrela completa \\ud83e\\udd8b\",\n",
            "        \"url\": null,\n",
            "        \"entities\": {\n",
            "            \"description\": {\n",
            "                \"urls\": []\n",
            "            }\n",
            "        },\n",
            "        \"protected\": false,\n",
            "        \"followers_count\": 266,\n",
            "        \"friends_count\": 324,\n",
            "        \"listed_count\": 1,\n",
            "        \"created_at\": \"Thu Aug 13 18:56:56 +0000 2020\",\n",
            "        \"favourites_count\": 26257,\n",
            "        \"utc_offset\": null,\n",
            "        \"time_zone\": null,\n",
            "        \"geo_enabled\": false,\n",
            "        \"verified\": false,\n",
            "        \"statuses_count\": 9137,\n",
            "        \"lang\": null,\n",
            "        \"contributors_enabled\": false,\n",
            "        \"is_translator\": false,\n",
            "        \"is_translation_enabled\": false,\n",
            "        \"profile_background_color\": \"F5F8FA\",\n",
            "        \"profile_background_image_url\": null,\n",
            "        \"profile_background_image_url_https\": null,\n",
            "        \"profile_background_tile\": false,\n",
            "        \"profile_image_url\": \"http://pbs.twimg.com/profile_images/1441160356601028614/LzxnJJMU_normal.png\",\n",
            "        \"profile_image_url_https\": \"https://pbs.twimg.com/profile_images/1441160356601028614/LzxnJJMU_normal.png\",\n",
            "        \"profile_banner_url\": \"https://pbs.twimg.com/profile_banners/1293984843672543238/1630437723\",\n",
            "        \"profile_link_color\": \"1DA1F2\",\n",
            "        \"profile_sidebar_border_color\": \"C0DEED\",\n",
            "        \"profile_sidebar_fill_color\": \"DDEEF6\",\n",
            "        \"profile_text_color\": \"333333\",\n",
            "        \"profile_use_background_image\": true,\n",
            "        \"has_extended_profile\": false,\n",
            "        \"default_profile\": true,\n",
            "        \"default_profile_image\": false,\n",
            "        \"following\": false,\n",
            "        \"follow_request_sent\": false,\n",
            "        \"notifications\": false,\n",
            "        \"translator_type\": \"none\",\n",
            "        \"withheld_in_countries\": []\n",
            "    },\n",
            "    \"geo\": null,\n",
            "    \"coordinates\": null,\n",
            "    \"place\": null,\n",
            "    \"contributors\": null,\n",
            "    \"retweeted_status\": {\n",
            "        \"created_at\": \"Fri Sep 24 23:58:11 +0000 2021\",\n",
            "        \"id\": 1441552575178973185,\n",
            "        \"id_str\": \"1441552575178973185\",\n",
            "        \"full_text\": \"A galera do filme do rock in Rio tentando surfar no hype de a menina que matou os pais kkkkkkk Carla Diaz \\u00e9 momento!!\\nT\\u00e1 cert\\u00edssimo, continua e j\\u00e1 aproveita e libera logo\",\n",
            "        \"truncated\": false,\n",
            "        \"display_text_range\": [\n",
            "            0,\n",
            "            170\n",
            "        ],\n",
            "        \"entities\": {\n",
            "            \"hashtags\": [],\n",
            "            \"symbols\": [],\n",
            "            \"user_mentions\": [],\n",
            "            \"urls\": []\n",
            "        },\n",
            "        \"metadata\": {\n",
            "            \"iso_language_code\": \"pt\",\n",
            "            \"result_type\": \"recent\"\n",
            "        },\n",
            "        \"source\": \"<a href=\\\"http://twitter.com/download/android\\\" rel=\\\"nofollow\\\">Twitter for Android</a>\",\n",
            "        \"in_reply_to_status_id\": null,\n",
            "        \"in_reply_to_status_id_str\": null,\n",
            "        \"in_reply_to_user_id\": null,\n",
            "        \"in_reply_to_user_id_str\": null,\n",
            "        \"in_reply_to_screen_name\": null,\n",
            "        \"user\": {\n",
            "            \"id\": 1372685897351716868,\n",
            "            \"id_str\": \"1372685897351716868\",\n",
            "            \"name\": \"Ana\",\n",
            "            \"screen_name\": \"ComenteiEDai\",\n",
            "            \"location\": \"\",\n",
            "            \"description\": \"Quem gostou, gostou. Quem n gostou, paci\\u00eancia.\",\n",
            "            \"url\": null,\n",
            "            \"entities\": {\n",
            "                \"description\": {\n",
            "                    \"urls\": []\n",
            "                }\n",
            "            },\n",
            "            \"protected\": false,\n",
            "            \"followers_count\": 54,\n",
            "            \"friends_count\": 61,\n",
            "            \"listed_count\": 0,\n",
            "            \"created_at\": \"Thu Mar 18 23:07:07 +0000 2021\",\n",
            "            \"favourites_count\": 2489,\n",
            "            \"utc_offset\": null,\n",
            "            \"time_zone\": null,\n",
            "            \"geo_enabled\": false,\n",
            "            \"verified\": false,\n",
            "            \"statuses_count\": 4019,\n",
            "            \"lang\": null,\n",
            "            \"contributors_enabled\": false,\n",
            "            \"is_translator\": false,\n",
            "            \"is_translation_enabled\": false,\n",
            "            \"profile_background_color\": \"F5F8FA\",\n",
            "            \"profile_background_image_url\": null,\n",
            "            \"profile_background_image_url_https\": null,\n",
            "            \"profile_background_tile\": false,\n",
            "            \"profile_image_url\": \"http://pbs.twimg.com/profile_images/1422583451576938499/-ai3-EeC_normal.jpg\",\n",
            "            \"profile_image_url_https\": \"https://pbs.twimg.com/profile_images/1422583451576938499/-ai3-EeC_normal.jpg\",\n",
            "            \"profile_banner_url\": \"https://pbs.twimg.com/profile_banners/1372685897351716868/1622844296\",\n",
            "            \"profile_link_color\": \"1DA1F2\",\n",
            "            \"profile_sidebar_border_color\": \"C0DEED\",\n",
            "            \"profile_sidebar_fill_color\": \"DDEEF6\",\n",
            "            \"profile_text_color\": \"333333\",\n",
            "            \"profile_use_background_image\": true,\n",
            "            \"has_extended_profile\": true,\n",
            "            \"default_profile\": true,\n",
            "            \"default_profile_image\": false,\n",
            "            \"following\": false,\n",
            "            \"follow_request_sent\": false,\n",
            "            \"notifications\": false,\n",
            "            \"translator_type\": \"none\",\n",
            "            \"withheld_in_countries\": []\n",
            "        },\n",
            "        \"geo\": null,\n",
            "        \"coordinates\": null,\n",
            "        \"place\": null,\n",
            "        \"contributors\": null,\n",
            "        \"is_quote_status\": false,\n",
            "        \"retweet_count\": 6,\n",
            "        \"favorite_count\": 36,\n",
            "        \"favorited\": false,\n",
            "        \"retweeted\": false,\n",
            "        \"lang\": \"pt\"\n",
            "    },\n",
            "    \"is_quote_status\": false,\n",
            "    \"retweet_count\": 6,\n",
            "    \"favorite_count\": 0,\n",
            "    \"favorited\": false,\n",
            "    \"retweeted\": false,\n",
            "    \"lang\": \"pt\"\n",
            "}\n"
          ]
        }
      ]
    },
    {
      "cell_type": "code",
      "metadata": {
        "colab": {
          "base_uri": "https://localhost:8080/"
        },
        "id": "m38GeAJrlQvs",
        "outputId": "4ab9a156-ad7c-4454-f2b2-d2ce4e92c438"
      },
      "source": [
        "print(f\"Data do tweet: {status.created_at}\") #Data\n",
        "print(f'ID: {status.id}') #ID\n",
        "print(f'{status.entities[\"user_mentions\"][0][\"screen_name\"]}') #Menção nome\n",
        "print(f'{status.user.url}') #Url"
      ],
      "execution_count": 25,
      "outputs": [
        {
          "output_type": "stream",
          "name": "stdout",
          "text": [
            "Data do tweet: 2021-09-24 23:59:32\n",
            "ID: 1441552915814961152\n",
            "ComenteiEDai\n",
            "None\n"
          ]
        }
      ]
    },
    {
      "cell_type": "code",
      "metadata": {
        "id": "CjiCdOrdm3pV"
      },
      "source": [
        "class MyStreamListener(tweepy.StreamListener):\n",
        "  c = 0\n",
        "  def on_status(self, status):\n",
        "    MyStreamListener.c += 1\n",
        "    texto = status.text\n",
        "    print(texto)\n",
        "\n",
        "    if MyStreamListener.c > 50:\n",
        "      return False\n",
        "  \n",
        "  def on_error(status, status_code):\n",
        "    print(f'Erro: {repr(status_code)}')"
      ],
      "execution_count": 33,
      "outputs": []
    },
    {
      "cell_type": "code",
      "metadata": {
        "id": "_9B5D_CVyyI5"
      },
      "source": [
        "myStreamListener = MyStreamListener(api=tweepy.API(wait_on_rate_limit=True))\n",
        "myStream = tweepy.Stream(auth=auth, listener= myStreamListener)"
      ],
      "execution_count": 34,
      "outputs": []
    },
    {
      "cell_type": "code",
      "metadata": {
        "colab": {
          "base_uri": "https://localhost:8080/"
        },
        "id": "yM6syV6jy2Qn",
        "outputId": "a4a6a614-8cd3-4475-ebfe-81001ac27bcf"
      },
      "source": [
        "myStream.filter(\n",
        "    track=['brasileirao']\n",
        ")"
      ],
      "execution_count": 35,
      "outputs": [
        {
          "output_type": "stream",
          "name": "stdout",
          "text": [
            "RT @flahistoria: 27 de Setembro, 2020\n",
            "#flahistoria \n",
            "\n",
            "No Allianz Parque, Flamengo e Palmeiras empataram em 1 a 1 pela 12ª rodada do @Brasile…\n",
            "até agora jv melhor zagueiro do br\n",
            "RT @erichbeting: Isso pode reforçar a transmissão própria dos clubes. E, por falar nisso, na segunda também mostramos que @Flamengo e @Bras…\n",
            "PERDEU EMBALO ❌\n",
            "\n",
            "Chapecoense perde embalo após vencer a primeira no Brasileirão #lancenet\n",
            "https://t.co/U0VVH1tdPg https://t.co/M0FczQ4g3L\n",
            "@SofaScoreBR @Brasileirao Os 2 melhores zagueiros do campeonato brasileiro até agora.\n",
            "RT @Brasileirao: ⚽️ ME PEGOU! O segundo maior artilheiro da minha história. O gol de domingo e a nova marca. Parabéns, @fredgol9! \n",
            "\n",
            "Você fa…\n",
            "@SofaScoreBR @Gremio @Brasileirao @vandi_001 Melhor do Grêmio na minha opinião junto ao Chapecó dois diferenciados o resto uma merda\n",
            "Né pouco ídolo n\n",
            "RT @Corinthians: AMÉM AMÉM AMÉM\n",
            "@Juliano24335046 @SofaScoreBR @Brasileirao Nathan fez 2 gols e tem menos gols sofridos. Isso conta muito, mesmo que… https://t.co/gimCUdVYj5\n",
            "RT @PortalDaBase: São Paulo vence Atlético-MG, assume liderança e se classifica no Brasileirão Sub-20\n",
            "#DaBase #Futeboldebase #Categoriasdeb…\n",
            "RT @Brasileirao: ⚽️ ME PEGOU! O segundo maior artilheiro da minha história. O gol de domingo e a nova marca. Parabéns, @fredgol9! \n",
            "\n",
            "Você fa…\n",
            "são paulo o mais prejudicado e surpreende o total de zero pessoas\n",
            "RT @Brasileirao: ⚽️ ME PEGOU! O segundo maior artilheiro da minha história. O gol de domingo e a nova marca. Parabéns, @fredgol9! \n",
            "\n",
            "Você fa…\n",
            "Essa é atual tabela do @Brasileirao 100% atualizada. https://t.co/t8KyGJ2buZ\n",
            "RT @PortalDaBase: São Paulo vence Atlético-MG, assume liderança e se classifica no Brasileirão Sub-20\n",
            "#DaBase #Futeboldebase #Categoriasdeb…\n",
            "RT @Brasileirao: ⚽️ ME PEGOU! O segundo maior artilheiro da minha história. O gol de domingo e a nova marca. Parabéns, @fredgol9! \n",
            "\n",
            "Você fa…\n",
            "RT @Brasileirao: ⚽️ ME PEGOU! O segundo maior artilheiro da minha história. O gol de domingo e a nova marca. Parabéns, @fredgol9! \n",
            "\n",
            "Você fa…\n",
            "Mais é óbvio que o são paulo é a equipe mais prejudicada.\n",
            "RT @willsmithfla: R. Ceni 🆚 R. Gaúcho pelo fla @Brasileirao !!\n",
            "\n",
            "🧐Estatística com apenas os oito primeiros jogos de ambos os técnicos no bra…\n",
            "RT @SofaScoreBR: Nathan Silva 🆚 João Victor no @Brasileirao 2021:\n",
            "\n",
            "Jogos: 18 - 21\n",
            "Gols: 2 - 0\n",
            "Acerto no passe: 89% - 86\n",
            "Duelos ganhos: 54%…\n",
            "@DobermannRn @Ricardo66851331 @AJFrozen São Paulo tem 1 brasileirao 3 paulistas 2 libertadores e 2 mundiais, 2 reco… https://t.co/KNrC2j7wzV\n",
            "RT @renata_mendonca: Mudem a frase \"ninguém quer ver futebol feminino\" para \"ninguém tinha tido a oportunidade de ver\". A @BandTV conseguiu…\n",
            "Confira as trocas de técnicos dos clubes do Brasileirão https://t.co/IDf8Z17Qeg\n",
            "@marcosbrazrio @CervinoDe @UOLEsporte @UOL Baixa a bola gordão! Tem 2 jogos seguidos do Brasileirao que esse time nao  joga nada!\n",
            ".@leopereira_04  se manifesta após empate e prevê recuperação no Brasileirão: \"Vamos alcançar nosso objetivo\"\n",
            "\n",
            "https://t.co/zULGcXWPfA\n",
            "RT @renata_mendonca: Mudem a frase \"ninguém quer ver futebol feminino\" para \"ninguém tinha tido a oportunidade de ver\". A @BandTV conseguiu…\n",
            "RT @ColunadoFla: .@leopereira_04  se manifesta após empate e prevê recuperação no Brasileirão: \"Vamos alcançar nosso objetivo\"\n",
            "\n",
            "https://t.c…\n",
            "@Hater_Do_Vitao2 @Joo47566684 @Juliano24335046 @deolmat @SofaScoreBR @Brasileirao Nathan ainda nao perdeu desde q v… https://t.co/AAcBlHPcXg\n",
            "Galooooo\n",
            "\n",
            "Apoiar sempre\n",
            "\n",
            "Vai Galo, canta alto\n",
            "\n",
            "#VamoGalo\n",
            "\n",
            "#ContinenteAtleticano 🏴🏳\n",
            "\n",
            "#GaloNaLibertadores \n",
            "\n",
            "#Atletico… https://t.co/mk1wOtHC1j\n",
            "@BrasileiraoDe8 @jantadasfutvoli Quero @FabilSanto no brasileirao 2021 adm\n",
            "RT @ColunadoFla: .@leopereira_04  se manifesta após empate e prevê recuperação no Brasileirão: \"Vamos alcançar nosso objetivo\"\n",
            "\n",
            "https://t.c…\n",
            "@SofaScoreBR @Brasileirao Dois excelentes zagueiros.\n",
            "Galooooo\n",
            "\n",
            "Apoiar sempre\n",
            "\n",
            "Vai Galo, canta alto\n",
            "\n",
            "#VamoGalo\n",
            "\n",
            "#ContinenteAtleticano 🏴🏳\n",
            "\n",
            "#GaloNaLibertadores \n",
            "\n",
            "#Atletico… https://t.co/gdnOEj2MOS\n",
            "RT @giovannarauj0_: Tem gente que é viciado em álcool. Tem gente que é viciado em pó. Tem gente que é viciado em sexo. Tem gente que é vici…\n",
            "RT @FluminenseFC: O SEGUNDO MAIOR ARTILHEIRO DA HISTÓRIA DO @brasileirao!\n",
            "\n",
            "#VaiTePegar @fredgol9 https://t.co/7pHHyzuLL5\n",
            "Galooooo\n",
            "\n",
            "Apoiar sempre\n",
            "\n",
            "Vai Galo, canta alto\n",
            "\n",
            "#VamoGalo\n",
            "\n",
            "#ContinenteAtleticano 🏴🏳\n",
            "\n",
            "#GaloNaLibertadores \n",
            "\n",
            "#Atletico… https://t.co/XorcHDQpRW\n",
            "RT @SCInternacional: 🗣 LANCEI OS BASTIDORES! 💥\n",
            "\n",
            "No Beira-Rio, vencemos o Bahia por 2 a 0 com gols de Yuri Alberto e Dourado. Terceira vitór…\n",
            "@Wandeshw @CentralDoBayern @FCBayernBR @BRFeminino @SCCPFutFeminino @Corinthians @Brasileirao Falou o time que acha que 5+1 e 6\n",
            "@Wandeshw @CentralDoBayern @FCBayernBR @BRFeminino @SCCPFutFeminino @Corinthians @Brasileirao Falou o time que acha que 5+1 e 10\n",
            "RT @Brasileirao: ⚽️ ME PEGOU! O segundo maior artilheiro da minha história. O gol de domingo e a nova marca. Parabéns, @fredgol9! \n",
            "\n",
            "Você fa…\n",
            "RT @NetoPistola10: @Brasileirao @Corinthians https://t.co/UT5xyZdZIg\n",
            "Com ele?\n",
            "Vai ser sonolento.\n",
            "RT @Brasileirao: ⚽️ ME PEGOU! O segundo maior artilheiro da minha história. O gol de domingo e a nova marca. Parabéns, @fredgol9! \n",
            "\n",
            "Você fa…\n",
            "RT @SofaScoreBR: Vanderson (20 anos) entre os jogadores do @Gremio no @Brasileirao:\n",
            "\n",
            "1º em participações em gols (4)\n",
            "1° em desarmes (35)\n",
            "1º…\n",
            "🚀🚀🚀\n",
            "\n",
            "Athletico engata segunda vitória consecutiva e respira no Brasileirão #lancenet\n",
            "https://t.co/Q7djiJgrP2 https://t.co/VpHdGTRueB\n",
            "RT @Brasileirao: Você votou, e a #SeleçãoDoTorcedorBR21 da 22ª rodada ficou assim! E aí, curtiu? #BRSDT https://t.co/rbYIoSOrnr\n",
            "RT @flahistoria: 27 de Setembro, 2020\n",
            "#flahistoria \n",
            "\n",
            "No Allianz Parque, Flamengo e Palmeiras empataram em 1 a 1 pela 12ª rodada do @Brasile…\n",
            "RT @SofaScoreBR: Nathan Silva 🆚 João Victor no @Brasileirao 2021:\n",
            "\n",
            "Jogos: 18 - 21\n",
            "Gols: 2 - 0\n",
            "Acerto no passe: 89% - 86\n",
            "Duelos ganhos: 54%…\n",
            "O segundo maior artilheiro da história do @brasileirao tinha que levar a bola do jogo pra casa! Orgulho, meu 9️⃣!… https://t.co/1NNwBtAByZ\n",
            "RT @FluminenseFC: O segundo maior artilheiro da história do @brasileirao tinha que levar a bola do jogo pra casa! Orgulho, meu 9️⃣! #VaiTeP…\n"
          ]
        }
      ]
    },
    {
      "cell_type": "code",
      "metadata": {
        "colab": {
          "base_uri": "https://localhost:8080/"
        },
        "id": "tfVGoVzpzpkp",
        "outputId": "06ecbc0c-9f80-4695-d288-0181efeb7db1"
      },
      "source": [
        "#Analise Kindle\n",
        "myStream.filter(\n",
        "    track=['kindle'],\n",
        "    languages=['pt']\n",
        ")"
      ],
      "execution_count": 36,
      "outputs": [
        {
          "output_type": "stream",
          "name": "stdout",
          "text": [
            "RT @He4rtDevs: Hoje a nossa comunidade completa 3 anos de existência 🥳💜\n",
            "E pra comemorar, nós estaremos sorteando um Kindle de 10a Geração p…\n"
          ]
        }
      ]
    },
    {
      "cell_type": "code",
      "metadata": {
        "colab": {
          "base_uri": "https://localhost:8080/",
          "height": 204
        },
        "id": "0YMy2lqS5ljP",
        "outputId": "611f9e28-8d90-4203-a733-baec9fff7dcf"
      },
      "source": [
        "import pandas as pd\n",
        "avaliacoes = pd.read_excel('/content/reviews.xlsx')\n",
        "avaliacoes.head()"
      ],
      "execution_count": 38,
      "outputs": [
        {
          "output_type": "execute_result",
          "data": {
            "text/html": [
              "<div>\n",
              "<style scoped>\n",
              "    .dataframe tbody tr th:only-of-type {\n",
              "        vertical-align: middle;\n",
              "    }\n",
              "\n",
              "    .dataframe tbody tr th {\n",
              "        vertical-align: top;\n",
              "    }\n",
              "\n",
              "    .dataframe thead th {\n",
              "        text-align: right;\n",
              "    }\n",
              "</style>\n",
              "<table border=\"1\" class=\"dataframe\">\n",
              "  <thead>\n",
              "    <tr style=\"text-align: right;\">\n",
              "      <th></th>\n",
              "      <th>Unnamed: 0</th>\n",
              "      <th>texto</th>\n",
              "      <th>estrelas</th>\n",
              "      <th>categoria</th>\n",
              "    </tr>\n",
              "  </thead>\n",
              "  <tbody>\n",
              "    <tr>\n",
              "      <th>0</th>\n",
              "      <td>0</td>\n",
              "      <td>Não liga O produto veio com defeito e não ligo...</td>\n",
              "      <td>1</td>\n",
              "      <td>0</td>\n",
              "    </tr>\n",
              "    <tr>\n",
              "      <th>1</th>\n",
              "      <td>1</td>\n",
              "      <td>Péssima experiência Comprei o produto há cerca...</td>\n",
              "      <td>1</td>\n",
              "      <td>0</td>\n",
              "    </tr>\n",
              "    <tr>\n",
              "      <th>2</th>\n",
              "      <td>2</td>\n",
              "      <td>Nunca foi entregue Lamento informar que nunca ...</td>\n",
              "      <td>1</td>\n",
              "      <td>0</td>\n",
              "    </tr>\n",
              "    <tr>\n",
              "      <th>3</th>\n",
              "      <td>3</td>\n",
              "      <td>Kindle (cor preta) com tela sensível ao toque ...</td>\n",
              "      <td>1</td>\n",
              "      <td>0</td>\n",
              "    </tr>\n",
              "    <tr>\n",
              "      <th>4</th>\n",
              "      <td>4</td>\n",
              "      <td>KINDLE Bom dia,por favor preciso de ajuda.Sext...</td>\n",
              "      <td>1</td>\n",
              "      <td>0</td>\n",
              "    </tr>\n",
              "  </tbody>\n",
              "</table>\n",
              "</div>"
            ],
            "text/plain": [
              "   Unnamed: 0  ... categoria\n",
              "0           0  ...         0\n",
              "1           1  ...         0\n",
              "2           2  ...         0\n",
              "3           3  ...         0\n",
              "4           4  ...         0\n",
              "\n",
              "[5 rows x 4 columns]"
            ]
          },
          "metadata": {},
          "execution_count": 38
        }
      ]
    },
    {
      "cell_type": "code",
      "metadata": {
        "colab": {
          "base_uri": "https://localhost:8080/"
        },
        "id": "g1rKEHrF6GWa",
        "outputId": "0d9ca522-0987-468f-9228-b909bc1a71e4"
      },
      "source": [
        "# criar o vetor de características\n",
        "from sklearn.feature_extraction.text import TfidfVectorizer\n",
        "import nltk\n",
        "nltk.download('stopwords')"
      ],
      "execution_count": 39,
      "outputs": [
        {
          "output_type": "stream",
          "name": "stdout",
          "text": [
            "[nltk_data] Downloading package stopwords to /root/nltk_data...\n",
            "[nltk_data]   Unzipping corpora/stopwords.zip.\n"
          ]
        },
        {
          "output_type": "execute_result",
          "data": {
            "text/plain": [
              "True"
            ]
          },
          "metadata": {},
          "execution_count": 39
        }
      ]
    },
    {
      "cell_type": "code",
      "metadata": {
        "id": "CsjpM-6M6Omh"
      },
      "source": [
        "stopwords = nltk.corpus.stopwords.words('portuguese')\n",
        "stopwords = stopwords.remove('não')\n",
        "vectorizer = TfidfVectorizer(stop_words=nltk.corpus.stopwords.words('portuguese'))"
      ],
      "execution_count": 40,
      "outputs": []
    },
    {
      "cell_type": "code",
      "metadata": {
        "id": "z1dUURve7tl9"
      },
      "source": [
        "X = vectorizer.fit_transform(avaliacoes.texto)\n",
        "y = avaliacoes.categoria"
      ],
      "execution_count": 41,
      "outputs": []
    },
    {
      "cell_type": "code",
      "metadata": {
        "id": "D0jYUP4_7w0J"
      },
      "source": [
        "from sklearn.model_selection import train_test_split\n",
        "X_train, X_test, y_train, y_test = train_test_split(X, y, test_size=0.3, stratify=y, random_state=88)"
      ],
      "execution_count": 51,
      "outputs": []
    },
    {
      "cell_type": "code",
      "metadata": {
        "id": "lToXCL8k70RQ"
      },
      "source": [
        "from sklearn import tree\n",
        "dtree = tree.DecisionTreeClassifier(random_state=88)\n",
        "dtree.fit(X_train, y_train)\n",
        "\n",
        "y_predict = dtree.predict(X_test)"
      ],
      "execution_count": 52,
      "outputs": []
    },
    {
      "cell_type": "code",
      "metadata": {
        "colab": {
          "base_uri": "https://localhost:8080/"
        },
        "id": "Mlx2k9al8UwM",
        "outputId": "56d193ab-92af-4fb0-f231-000963790f9a"
      },
      "source": [
        "#Acuracia\n",
        "from sklearn.metrics import accuracy_score\n",
        "accuracy_score(y_test, y_predict)"
      ],
      "execution_count": 53,
      "outputs": [
        {
          "output_type": "execute_result",
          "data": {
            "text/plain": [
              "0.8662175168431184"
            ]
          },
          "metadata": {},
          "execution_count": 53
        }
      ]
    },
    {
      "cell_type": "code",
      "metadata": {
        "colab": {
          "base_uri": "https://localhost:8080/"
        },
        "id": "PzGKevbA8WIH",
        "outputId": "b5fc3bb5-c49c-4fc2-9c8d-e0a065c152fa"
      },
      "source": [
        "print(\"A Acuracia é relativamente boa\")"
      ],
      "execution_count": 54,
      "outputs": [
        {
          "output_type": "stream",
          "name": "stdout",
          "text": [
            "A Acuracia é relativamente boa\n"
          ]
        }
      ]
    },
    {
      "cell_type": "code",
      "metadata": {
        "id": "520rqo75_wT9"
      },
      "source": [
        "#Analise do Sentimento\n",
        "class MyStreamListener(tweepy.StreamListener):\n",
        "  c = 0\n",
        "  def on_status(self, status):\n",
        "    MyStreamListener.c += 1\n",
        "    texto = status.text\n",
        "    X = vectorizer.transform([texto])\n",
        "    y = dtree.predict(X)\n",
        "    print(f\"Sentimento: {y}\", status.created_at, status.user.id, texto)\n",
        "\n",
        "    if MyStreamListener.c > 10:\n",
        "      MyStreamListener.c = 0\n",
        "      return False\n",
        "  \n",
        "  def on_error(status, status_code):\n",
        "    print(f'Erro: {repr(status_code)}')"
      ],
      "execution_count": 56,
      "outputs": []
    },
    {
      "cell_type": "code",
      "metadata": {
        "id": "DD8fHr1A_xGB"
      },
      "source": [
        "myStreamListener = MyStreamListener(api=tweepy.API(wait_on_rate_limit=True))\n",
        "myStream = tweepy.Stream(auth=auth, listener= myStreamListener)"
      ],
      "execution_count": 57,
      "outputs": []
    },
    {
      "cell_type": "code",
      "metadata": {
        "colab": {
          "base_uri": "https://localhost:8080/"
        },
        "id": "TElRocwI_5J2",
        "outputId": "e5334e51-f43e-4755-ad00-7e72ce1f6948"
      },
      "source": [
        "#Sentimento [1] = positivo\n",
        "#Sentimento [0] = negativo\n",
        "myStream.filter(\n",
        "    track=['kindle'],\n",
        "    languages=['pt']\n",
        ")"
      ],
      "execution_count": 58,
      "outputs": [
        {
          "output_type": "stream",
          "name": "stdout",
          "text": [
            "Sentimento: [1] 2021-09-28 01:23:09 86041024 sdds da ditadura não roubavam meu ipad e meu kindle nas ruas\n",
            "Sentimento: [1] 2021-09-28 01:23:53 1295526095102586888 @Kev_freitas @Thayrine_raquel É pra Kindle amiga, se tu for ler pelo cel é melhor pdf ou epub\n",
            "Sentimento: [1] 2021-09-28 01:23:57 860144029 O novo Kindle de novo não tem nada\n",
            "Sentimento: [1] 2021-09-28 01:24:39 2322939030 RT @poesiacustica: GENTEEEE NÃO ACREDITOOOOO!!!!!!  😱😱🥰\n",
            "\n",
            "a AMAZON esta dando 1 MÊS GRÁTIS de Kindle Unlimeted. 🏃🏻‍♀️\n",
            "\n",
            "Com o Kindle Unlimete…\n",
            "Sentimento: [1] 2021-09-28 01:24:41 1411493843678212100 RT @Knjiges1: Memórias póstumas de Brás Cubas por de Assis, Machado https://t.co/AyLCDePAZf via @amazon  #Booktwt #promocao #book #amoler #…\n",
            "Sentimento: [1] 2021-09-28 01:25:16 916116029645967361 @papiroinsano Acho que um kindle te ajudaria, é mais confortável\n",
            "Sentimento: [1] 2021-09-28 01:25:36 1283775113100513281 CUPOM DE DESCONTO AMAZON\n",
            "\n",
            "Ganhe 5% off na compra de seu Kindle! https://t.co/mqY5GeSOFb https://t.co/xXwZCJfEeS\n",
            "Sentimento: [1] 2021-09-28 01:26:01 1371586296603410434 @ln7crf OS MELHORES DISPOSITIVOS KINDLE EM ATÉ 12X SEM JUROS: https://t.co/b7VzPplTz4\n",
            "Sentimento: [1] 2021-09-28 01:26:07 1371586296603410434 @naaclr OS MELHORES DISPOSITIVOS KINDLE EM ATÉ 12X SEM JUROS: https://t.co/b7VzPplTz4\n",
            "Sentimento: [1] 2021-09-28 01:26:12 1371586296603410434 @33vinisofwar OS MELHORES DISPOSITIVOS KINDLE EM ATÉ 12X SEM JUROS: https://t.co/b7VzPplTz4\n",
            "Sentimento: [1] 2021-09-28 01:26:14 877348598689570817 joguei pro kindle esqueci que minha irmã usa minha conta 🤡\n"
          ]
        }
      ]
    },
    {
      "cell_type": "code",
      "metadata": {
        "id": "MccyD5ZQABSP"
      },
      "source": [
        ""
      ],
      "execution_count": null,
      "outputs": []
    }
  ]
}