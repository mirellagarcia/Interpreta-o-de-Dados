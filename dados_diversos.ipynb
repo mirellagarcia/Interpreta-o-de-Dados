{
  "nbformat": 4,
  "nbformat_minor": 0,
  "metadata": {
    "colab": {
      "name": "dados_diversos.ipynb",
      "provenance": [],
      "authorship_tag": "ABX9TyPBBbuv2xBEsdsIZIdX/uyp",
      "include_colab_link": true
    },
    "kernelspec": {
      "name": "python3",
      "display_name": "Python 3"
    },
    "language_info": {
      "name": "python"
    }
  },
  "cells": [
    {
      "cell_type": "markdown",
      "metadata": {
        "id": "view-in-github",
        "colab_type": "text"
      },
      "source": [
        "<a href=\"https://colab.research.google.com/github/mirellagarcia/interpretando_dados/blob/main/dados_diversos.ipynb\" target=\"_parent\"><img src=\"https://colab.research.google.com/assets/colab-badge.svg\" alt=\"Open In Colab\"/></a>"
      ]
    },
    {
      "cell_type": "markdown",
      "metadata": {
        "id": "gK_AV5eSB1gI"
      },
      "source": [
        "## 5.7. Exercício - Medidas de posição\n",
        "\n",
        "Faça o download dos dados de [nascidos vivos em 2017 de Sergipe](https://drive.google.com/file/d/1-JnSCtkibxdKWxkrWSml2HD60PejMm0s/view?usp=sharing) e responda às seguintes perguntas:\n",
        "\n",
        "\n",
        "\n",
        "1.   Qual a média da idade da mãe, peso, apgar 1 min, apgar 5 min, quantidade de filhos vivos e quantidade de filhos mortos?\n",
        "2.   Qual a idade tal que metade das idades das mães são menores que ela (mediana)?\n",
        "3.   Qual o apgar de 1 min que mais aparece (moda)?\n",
        "4.   Qual o apgar de 5 minutos que mais aparece?\n",
        "5.   Qual o peso da criança tal que 10% dos pesos são menores (P10)?\n",
        "6.   Qual o peso da criança tal que 75% dos pesos são menores (Q3)?\n",
        "7.   Qual a quantidade de filhos mortos que mais aparece?\n",
        "8.   Qual a média de idade de mães solteiras?\n",
        "9.   Qual a quantidade de filhos vivos das mães com até 3 anos de escolaridade tal que 25% dessa quantidade são menores (Q1)?\n",
        "10.   Qual a moda da idade das mães para as crianças que nasceram com anomalia congênita?\n",
        "\n",
        "<br/>\n",
        "\n",
        "Utilize como referência os campos este arquivo: [https://drive.google.com/open?id=1N5exAY_Uk-uyCpzYFocIVn9MO3v-HqWrt](https://drive.google.com/open?id=1N5exAY_Uk-uyCpzYFocIVn9MO3v-HqWr)\n",
        "\n",
        "Lembre-se de:\n",
        "\n",
        "*   Carregar os dados em um dataframe\n",
        "*   Transformar os dados necessários\n"
      ]
    },
    {
      "cell_type": "code",
      "metadata": {
        "colab": {
          "base_uri": "https://localhost:8080/"
        },
        "id": "zJwcG4mpwzgI",
        "outputId": "9bb9321f-b98c-4f2d-b99c-6bf8cbb0e7a5"
      },
      "source": [
        "#Preparação do Ambiente\n",
        "#importar pandas\n",
        "import pandas as pd\n",
        "#montar drive para ler os arquivos\n",
        "from google.colab import drive\n",
        "drive.mount('/content/drive')"
      ],
      "execution_count": 6,
      "outputs": [
        {
          "output_type": "stream",
          "text": [
            "Drive already mounted at /content/drive; to attempt to forcibly remount, call drive.mount(\"/content/drive\", force_remount=True).\n"
          ],
          "name": "stdout"
        }
      ]
    },
    {
      "cell_type": "code",
      "metadata": {
        "colab": {
          "base_uri": "https://localhost:8080/",
          "height": 224
        },
        "id": "GfET7nQ-xJ2f",
        "outputId": "c1af9f99-98b6-4d48-ab19-0bb0e62188c0"
      },
      "source": [
        "#Colocando o caminho do arquivo em uma variavel\n",
        "caminho = (\"/content/drive/MyDrive/DNSE2017.csv\")\n",
        "\n",
        "#Ler arquivo e mostrar dados\n",
        "sinasc = pd.read_csv(caminho, dtype = str)\n",
        "sinasc.head(5)"
      ],
      "execution_count": 7,
      "outputs": [
        {
          "output_type": "execute_result",
          "data": {
            "text/html": [
              "<div>\n",
              "<style scoped>\n",
              "    .dataframe tbody tr th:only-of-type {\n",
              "        vertical-align: middle;\n",
              "    }\n",
              "\n",
              "    .dataframe tbody tr th {\n",
              "        vertical-align: top;\n",
              "    }\n",
              "\n",
              "    .dataframe thead th {\n",
              "        text-align: right;\n",
              "    }\n",
              "</style>\n",
              "<table border=\"1\" class=\"dataframe\">\n",
              "  <thead>\n",
              "    <tr style=\"text-align: right;\">\n",
              "      <th></th>\n",
              "      <th>contador</th>\n",
              "      <th>ORIGEM</th>\n",
              "      <th>CODESTAB</th>\n",
              "      <th>CODMUNNASC</th>\n",
              "      <th>LOCNASC</th>\n",
              "      <th>IDADEMAE</th>\n",
              "      <th>ESTCIVMAE</th>\n",
              "      <th>ESCMAE</th>\n",
              "      <th>CODOCUPMAE</th>\n",
              "      <th>QTDFILVIVO</th>\n",
              "      <th>QTDFILMORT</th>\n",
              "      <th>CODMUNRES</th>\n",
              "      <th>GESTACAO</th>\n",
              "      <th>GRAVIDEZ</th>\n",
              "      <th>PARTO</th>\n",
              "      <th>CONSULTAS</th>\n",
              "      <th>DTNASC</th>\n",
              "      <th>HORANASC</th>\n",
              "      <th>SEXO</th>\n",
              "      <th>APGAR1</th>\n",
              "      <th>APGAR5</th>\n",
              "      <th>RACACOR</th>\n",
              "      <th>PESO</th>\n",
              "      <th>IDANOMAL</th>\n",
              "      <th>DTCADASTRO</th>\n",
              "      <th>CODANOMAL</th>\n",
              "      <th>NUMEROLOTE</th>\n",
              "      <th>VERSAOSIST</th>\n",
              "      <th>DTRECEBIM</th>\n",
              "      <th>DIFDATA</th>\n",
              "      <th>DTRECORIGA</th>\n",
              "      <th>NATURALMAE</th>\n",
              "      <th>CODMUNNATU</th>\n",
              "      <th>CODUFNATU</th>\n",
              "      <th>ESCMAE2010</th>\n",
              "      <th>SERIESCMAE</th>\n",
              "      <th>DTNASCMAE</th>\n",
              "      <th>RACACORMAE</th>\n",
              "      <th>QTDGESTANT</th>\n",
              "      <th>QTDPARTNOR</th>\n",
              "      <th>QTDPARTCES</th>\n",
              "      <th>IDADEPAI</th>\n",
              "      <th>DTULTMENST</th>\n",
              "      <th>SEMAGESTAC</th>\n",
              "      <th>TPMETESTIM</th>\n",
              "      <th>CONSPRENAT</th>\n",
              "      <th>MESPRENAT</th>\n",
              "      <th>TPAPRESENT</th>\n",
              "      <th>STTRABPART</th>\n",
              "      <th>STCESPARTO</th>\n",
              "      <th>TPNASCASSI</th>\n",
              "      <th>TPFUNCRESP</th>\n",
              "      <th>TPDOCRESP</th>\n",
              "      <th>DTDECLARAC</th>\n",
              "      <th>ESCMAEAGR1</th>\n",
              "      <th>STDNEPIDEM</th>\n",
              "      <th>STDNNOVA</th>\n",
              "      <th>CODPAISRES</th>\n",
              "      <th>TPROBSON</th>\n",
              "      <th>PARIDADE</th>\n",
              "      <th>KOTELCHUCK</th>\n",
              "    </tr>\n",
              "  </thead>\n",
              "  <tbody>\n",
              "    <tr>\n",
              "      <th>0</th>\n",
              "      <td>1</td>\n",
              "      <td>1</td>\n",
              "      <td>2415631</td>\n",
              "      <td>230440</td>\n",
              "      <td>1</td>\n",
              "      <td>24</td>\n",
              "      <td>2</td>\n",
              "      <td>4</td>\n",
              "      <td>999992</td>\n",
              "      <td>01</td>\n",
              "      <td>00</td>\n",
              "      <td>280030</td>\n",
              "      <td>5</td>\n",
              "      <td>1</td>\n",
              "      <td>2</td>\n",
              "      <td>4</td>\n",
              "      <td>10012017</td>\n",
              "      <td>1413</td>\n",
              "      <td>1</td>\n",
              "      <td>09</td>\n",
              "      <td>10</td>\n",
              "      <td>4</td>\n",
              "      <td>3556</td>\n",
              "      <td>2</td>\n",
              "      <td>16012017</td>\n",
              "      <td>NaN</td>\n",
              "      <td>20170003</td>\n",
              "      <td>3.2.01</td>\n",
              "      <td>07022017</td>\n",
              "      <td>028</td>\n",
              "      <td>NaN</td>\n",
              "      <td>823</td>\n",
              "      <td>230075</td>\n",
              "      <td>23</td>\n",
              "      <td>3</td>\n",
              "      <td>NaN</td>\n",
              "      <td>08011993</td>\n",
              "      <td>4</td>\n",
              "      <td>01</td>\n",
              "      <td>00</td>\n",
              "      <td>01</td>\n",
              "      <td>NaN</td>\n",
              "      <td>NaN</td>\n",
              "      <td>40</td>\n",
              "      <td>9</td>\n",
              "      <td>10</td>\n",
              "      <td>NaN</td>\n",
              "      <td>1</td>\n",
              "      <td>2</td>\n",
              "      <td>1</td>\n",
              "      <td>1</td>\n",
              "      <td>NaN</td>\n",
              "      <td>0</td>\n",
              "      <td>NaN</td>\n",
              "      <td>12</td>\n",
              "      <td>0</td>\n",
              "      <td>1</td>\n",
              "      <td>NaN</td>\n",
              "      <td>05</td>\n",
              "      <td>1</td>\n",
              "      <td>9</td>\n",
              "    </tr>\n",
              "    <tr>\n",
              "      <th>1</th>\n",
              "      <td>2</td>\n",
              "      <td>1</td>\n",
              "      <td>2005050</td>\n",
              "      <td>270030</td>\n",
              "      <td>1</td>\n",
              "      <td>34</td>\n",
              "      <td>5</td>\n",
              "      <td>4</td>\n",
              "      <td>622020</td>\n",
              "      <td>03</td>\n",
              "      <td>01</td>\n",
              "      <td>280600</td>\n",
              "      <td>5</td>\n",
              "      <td>1</td>\n",
              "      <td>2</td>\n",
              "      <td>3</td>\n",
              "      <td>05042017</td>\n",
              "      <td>1425</td>\n",
              "      <td>1</td>\n",
              "      <td>08</td>\n",
              "      <td>09</td>\n",
              "      <td>4</td>\n",
              "      <td>2760</td>\n",
              "      <td>2</td>\n",
              "      <td>03072017</td>\n",
              "      <td>NaN</td>\n",
              "      <td>20170020</td>\n",
              "      <td>3.2.01</td>\n",
              "      <td>26072017</td>\n",
              "      <td>112</td>\n",
              "      <td>NaN</td>\n",
              "      <td>827</td>\n",
              "      <td>270400</td>\n",
              "      <td>27</td>\n",
              "      <td>3</td>\n",
              "      <td>3</td>\n",
              "      <td>06011983</td>\n",
              "      <td>4</td>\n",
              "      <td>04</td>\n",
              "      <td>03</td>\n",
              "      <td>NaN</td>\n",
              "      <td>NaN</td>\n",
              "      <td>14072016</td>\n",
              "      <td>37</td>\n",
              "      <td>8</td>\n",
              "      <td>05</td>\n",
              "      <td>03</td>\n",
              "      <td>1</td>\n",
              "      <td>2</td>\n",
              "      <td>2</td>\n",
              "      <td>1</td>\n",
              "      <td>NaN</td>\n",
              "      <td>3</td>\n",
              "      <td>05042017</td>\n",
              "      <td>06</td>\n",
              "      <td>0</td>\n",
              "      <td>1</td>\n",
              "      <td>NaN</td>\n",
              "      <td>03</td>\n",
              "      <td>1</td>\n",
              "      <td>3</td>\n",
              "    </tr>\n",
              "    <tr>\n",
              "      <th>2</th>\n",
              "      <td>3</td>\n",
              "      <td>1</td>\n",
              "      <td>2005050</td>\n",
              "      <td>270030</td>\n",
              "      <td>1</td>\n",
              "      <td>19</td>\n",
              "      <td>2</td>\n",
              "      <td>4</td>\n",
              "      <td>622020</td>\n",
              "      <td>NaN</td>\n",
              "      <td>NaN</td>\n",
              "      <td>280120</td>\n",
              "      <td>NaN</td>\n",
              "      <td>1</td>\n",
              "      <td>2</td>\n",
              "      <td>4</td>\n",
              "      <td>03042017</td>\n",
              "      <td>1250</td>\n",
              "      <td>1</td>\n",
              "      <td>08</td>\n",
              "      <td>09</td>\n",
              "      <td>4</td>\n",
              "      <td>3010</td>\n",
              "      <td>2</td>\n",
              "      <td>17042017</td>\n",
              "      <td>NaN</td>\n",
              "      <td>20170011</td>\n",
              "      <td>3.2.01</td>\n",
              "      <td>20042017</td>\n",
              "      <td>017</td>\n",
              "      <td>NaN</td>\n",
              "      <td>827</td>\n",
              "      <td>270030</td>\n",
              "      <td>27</td>\n",
              "      <td>3</td>\n",
              "      <td>3</td>\n",
              "      <td>21081997</td>\n",
              "      <td>4</td>\n",
              "      <td>NaN</td>\n",
              "      <td>NaN</td>\n",
              "      <td>NaN</td>\n",
              "      <td>26</td>\n",
              "      <td>NaN</td>\n",
              "      <td>NaN</td>\n",
              "      <td>NaN</td>\n",
              "      <td>08</td>\n",
              "      <td>01</td>\n",
              "      <td>1</td>\n",
              "      <td>1</td>\n",
              "      <td>2</td>\n",
              "      <td>1</td>\n",
              "      <td>NaN</td>\n",
              "      <td>3</td>\n",
              "      <td>03042017</td>\n",
              "      <td>06</td>\n",
              "      <td>0</td>\n",
              "      <td>1</td>\n",
              "      <td>NaN</td>\n",
              "      <td>11</td>\n",
              "      <td>0</td>\n",
              "      <td>5</td>\n",
              "    </tr>\n",
              "    <tr>\n",
              "      <th>3</th>\n",
              "      <td>4</td>\n",
              "      <td>1</td>\n",
              "      <td>2005026</td>\n",
              "      <td>270030</td>\n",
              "      <td>1</td>\n",
              "      <td>19</td>\n",
              "      <td>2</td>\n",
              "      <td>4</td>\n",
              "      <td>999992</td>\n",
              "      <td>01</td>\n",
              "      <td>NaN</td>\n",
              "      <td>280440</td>\n",
              "      <td>5</td>\n",
              "      <td>1</td>\n",
              "      <td>2</td>\n",
              "      <td>3</td>\n",
              "      <td>29042017</td>\n",
              "      <td>1615</td>\n",
              "      <td>2</td>\n",
              "      <td>08</td>\n",
              "      <td>09</td>\n",
              "      <td>4</td>\n",
              "      <td>3720</td>\n",
              "      <td>2</td>\n",
              "      <td>17052017</td>\n",
              "      <td>NaN</td>\n",
              "      <td>20170015</td>\n",
              "      <td>3.2.01</td>\n",
              "      <td>18052017</td>\n",
              "      <td>019</td>\n",
              "      <td>NaN</td>\n",
              "      <td>827</td>\n",
              "      <td>270170</td>\n",
              "      <td>27</td>\n",
              "      <td>2</td>\n",
              "      <td>8</td>\n",
              "      <td>10041998</td>\n",
              "      <td>4</td>\n",
              "      <td>01</td>\n",
              "      <td>NaN</td>\n",
              "      <td>01</td>\n",
              "      <td>NaN</td>\n",
              "      <td>08082016</td>\n",
              "      <td>37</td>\n",
              "      <td>8</td>\n",
              "      <td>04</td>\n",
              "      <td>04</td>\n",
              "      <td>1</td>\n",
              "      <td>1</td>\n",
              "      <td>1</td>\n",
              "      <td>1</td>\n",
              "      <td>2</td>\n",
              "      <td>3</td>\n",
              "      <td>29042017</td>\n",
              "      <td>04</td>\n",
              "      <td>0</td>\n",
              "      <td>1</td>\n",
              "      <td>NaN</td>\n",
              "      <td>05</td>\n",
              "      <td>1</td>\n",
              "      <td>2</td>\n",
              "    </tr>\n",
              "    <tr>\n",
              "      <th>4</th>\n",
              "      <td>5</td>\n",
              "      <td>1</td>\n",
              "      <td>2722429</td>\n",
              "      <td>270400</td>\n",
              "      <td>1</td>\n",
              "      <td>16</td>\n",
              "      <td>1</td>\n",
              "      <td>4</td>\n",
              "      <td>999991</td>\n",
              "      <td>00</td>\n",
              "      <td>04</td>\n",
              "      <td>280570</td>\n",
              "      <td>5</td>\n",
              "      <td>1</td>\n",
              "      <td>1</td>\n",
              "      <td>3</td>\n",
              "      <td>19042017</td>\n",
              "      <td>1014</td>\n",
              "      <td>1</td>\n",
              "      <td>09</td>\n",
              "      <td>10</td>\n",
              "      <td>4</td>\n",
              "      <td>2900</td>\n",
              "      <td>2</td>\n",
              "      <td>06062017</td>\n",
              "      <td>NaN</td>\n",
              "      <td>20170007</td>\n",
              "      <td>3.2.01</td>\n",
              "      <td>06062017</td>\n",
              "      <td>048</td>\n",
              "      <td>NaN</td>\n",
              "      <td>828</td>\n",
              "      <td>280030</td>\n",
              "      <td>28</td>\n",
              "      <td>3</td>\n",
              "      <td>1</td>\n",
              "      <td>30082000</td>\n",
              "      <td>4</td>\n",
              "      <td>00</td>\n",
              "      <td>00</td>\n",
              "      <td>00</td>\n",
              "      <td>NaN</td>\n",
              "      <td>20072016</td>\n",
              "      <td>38</td>\n",
              "      <td>8</td>\n",
              "      <td>05</td>\n",
              "      <td>05</td>\n",
              "      <td>1</td>\n",
              "      <td>2</td>\n",
              "      <td>3</td>\n",
              "      <td>3</td>\n",
              "      <td>2</td>\n",
              "      <td>4</td>\n",
              "      <td>19042017</td>\n",
              "      <td>05</td>\n",
              "      <td>0</td>\n",
              "      <td>1</td>\n",
              "      <td>NaN</td>\n",
              "      <td>03</td>\n",
              "      <td>1</td>\n",
              "      <td>2</td>\n",
              "    </tr>\n",
              "  </tbody>\n",
              "</table>\n",
              "</div>"
            ],
            "text/plain": [
              "  contador ORIGEM CODESTAB CODMUNNASC  ... CODPAISRES TPROBSON PARIDADE KOTELCHUCK\n",
              "0        1      1  2415631     230440  ...        NaN       05        1          9\n",
              "1        2      1  2005050     270030  ...        NaN       03        1          3\n",
              "2        3      1  2005050     270030  ...        NaN       11        0          5\n",
              "3        4      1  2005026     270030  ...        NaN       05        1          2\n",
              "4        5      1  2722429     270400  ...        NaN       03        1          2\n",
              "\n",
              "[5 rows x 61 columns]"
            ]
          },
          "metadata": {
            "tags": []
          },
          "execution_count": 7
        }
      ]
    },
    {
      "cell_type": "code",
      "metadata": {
        "id": "X5g4CpEqx5wE"
      },
      "source": [
        "#Transformação dos dados\n",
        "sinasc['PESO'] = pd.to_numeric(sinasc['PESO'])\n",
        "sinasc['IDADEMAE'] = pd.to_numeric(sinasc['IDADEMAE'])\n",
        "sinasc['IDADEPAI'] = pd.to_numeric(sinasc['IDADEPAI'])\n",
        "sinasc['APGAR1'] = pd.to_numeric(sinasc['APGAR1'])\n",
        "sinasc['APGAR5'] = pd.to_numeric(sinasc['APGAR5'])\n",
        "\n",
        "sinasc['QTDFILVIVO'] = pd.to_numeric(sinasc['QTDFILVIVO']).astype(pd.Int64Dtype())\n",
        "sinasc['QTDFILMORT'] = pd.to_numeric(sinasc['QTDFILMORT']).astype(pd.Int64Dtype())\n",
        "sinasc['SEMAGESTAC'] = pd.to_numeric(sinasc['SEMAGESTAC']).astype(pd.Int64Dtype())\n",
        "sinasc['CONSPRENAT'] = pd.to_numeric(sinasc['CONSPRENAT']).astype(pd.Int64Dtype())\n",
        "sinasc['SERIESCMAE'] = pd.to_numeric(sinasc['SERIESCMAE']).astype(pd.Int64Dtype())\n",
        "sinasc['QTDPARTCES'] = pd.to_numeric(sinasc['QTDPARTCES']).astype(pd.Int64Dtype())\n",
        "sinasc['QTDPARTNOR'] = pd.to_numeric(sinasc['QTDPARTNOR']).astype(pd.Int64Dtype())\n",
        "sinasc['QTDGESTANT'] = pd.to_numeric(sinasc['QTDGESTANT']).astype(pd.Int64Dtype())"
      ],
      "execution_count": 8,
      "outputs": []
    },
    {
      "cell_type": "code",
      "metadata": {
        "id": "QPkHRw8bDfoS"
      },
      "source": [
        "#filtrar dados para as análises\n",
        "\n",
        "#filtro para as mães com até 3 anos de escolaridade\n",
        "escolaridade = sinasc[(sinasc['ESCMAE'] == '1') | (sinasc['ESCMAE'] == '2')]\n",
        "#filtro para as mães solteiras\n",
        "solteiras = sinasc[sinasc['ESTCIVMAE'] == '1']\n",
        "# filtro para os nascimentos com anomalia\n",
        "anomalia = sinasc[sinasc['IDANOMAL'] == '1']"
      ],
      "execution_count": 10,
      "outputs": []
    },
    {
      "cell_type": "code",
      "metadata": {
        "colab": {
          "base_uri": "https://localhost:8080/",
          "height": 317
        },
        "id": "yPRRftizDvxT",
        "outputId": "a1dadbba-2a39-4b41-ec68-d3f5e57ee0f5"
      },
      "source": [
        "# descrição do dataframe\n",
        "sinasc.describe()"
      ],
      "execution_count": 11,
      "outputs": [
        {
          "output_type": "execute_result",
          "data": {
            "text/html": [
              "<div>\n",
              "<style scoped>\n",
              "    .dataframe tbody tr th:only-of-type {\n",
              "        vertical-align: middle;\n",
              "    }\n",
              "\n",
              "    .dataframe tbody tr th {\n",
              "        vertical-align: top;\n",
              "    }\n",
              "\n",
              "    .dataframe thead th {\n",
              "        text-align: right;\n",
              "    }\n",
              "</style>\n",
              "<table border=\"1\" class=\"dataframe\">\n",
              "  <thead>\n",
              "    <tr style=\"text-align: right;\">\n",
              "      <th></th>\n",
              "      <th>IDADEMAE</th>\n",
              "      <th>QTDFILVIVO</th>\n",
              "      <th>QTDFILMORT</th>\n",
              "      <th>APGAR1</th>\n",
              "      <th>APGAR5</th>\n",
              "      <th>PESO</th>\n",
              "      <th>SERIESCMAE</th>\n",
              "      <th>QTDGESTANT</th>\n",
              "      <th>QTDPARTNOR</th>\n",
              "      <th>QTDPARTCES</th>\n",
              "      <th>IDADEPAI</th>\n",
              "      <th>SEMAGESTAC</th>\n",
              "      <th>CONSPRENAT</th>\n",
              "    </tr>\n",
              "  </thead>\n",
              "  <tbody>\n",
              "    <tr>\n",
              "      <th>count</th>\n",
              "      <td>33867.000000</td>\n",
              "      <td>30180.000000</td>\n",
              "      <td>27531.000000</td>\n",
              "      <td>33015.000000</td>\n",
              "      <td>33032.000000</td>\n",
              "      <td>33856.000000</td>\n",
              "      <td>24873.000000</td>\n",
              "      <td>30546.000000</td>\n",
              "      <td>29595.000000</td>\n",
              "      <td>27357.000000</td>\n",
              "      <td>5010.000000</td>\n",
              "      <td>33483.000000</td>\n",
              "      <td>33571.000000</td>\n",
              "    </tr>\n",
              "    <tr>\n",
              "      <th>mean</th>\n",
              "      <td>26.148079</td>\n",
              "      <td>1.123062</td>\n",
              "      <td>0.310486</td>\n",
              "      <td>8.443829</td>\n",
              "      <td>9.526913</td>\n",
              "      <td>3223.196332</td>\n",
              "      <td>4.218510</td>\n",
              "      <td>1.389085</td>\n",
              "      <td>1.025443</td>\n",
              "      <td>0.287641</td>\n",
              "      <td>33.357485</td>\n",
              "      <td>38.673476</td>\n",
              "      <td>7.178011</td>\n",
              "    </tr>\n",
              "    <tr>\n",
              "      <th>std</th>\n",
              "      <td>6.849105</td>\n",
              "      <td>1.417291</td>\n",
              "      <td>0.647047</td>\n",
              "      <td>1.275513</td>\n",
              "      <td>0.891737</td>\n",
              "      <td>575.737801</td>\n",
              "      <td>2.264276</td>\n",
              "      <td>1.668507</td>\n",
              "      <td>1.519598</td>\n",
              "      <td>0.604171</td>\n",
              "      <td>7.506499</td>\n",
              "      <td>2.190846</td>\n",
              "      <td>4.441002</td>\n",
              "    </tr>\n",
              "    <tr>\n",
              "      <th>min</th>\n",
              "      <td>11.000000</td>\n",
              "      <td>0.000000</td>\n",
              "      <td>0.000000</td>\n",
              "      <td>0.000000</td>\n",
              "      <td>0.000000</td>\n",
              "      <td>225.000000</td>\n",
              "      <td>1.000000</td>\n",
              "      <td>0.000000</td>\n",
              "      <td>0.000000</td>\n",
              "      <td>0.000000</td>\n",
              "      <td>15.000000</td>\n",
              "      <td>19.000000</td>\n",
              "      <td>0.000000</td>\n",
              "    </tr>\n",
              "    <tr>\n",
              "      <th>25%</th>\n",
              "      <td>21.000000</td>\n",
              "      <td>0.000000</td>\n",
              "      <td>0.000000</td>\n",
              "      <td>8.000000</td>\n",
              "      <td>9.000000</td>\n",
              "      <td>2930.000000</td>\n",
              "      <td>3.000000</td>\n",
              "      <td>0.000000</td>\n",
              "      <td>0.000000</td>\n",
              "      <td>0.000000</td>\n",
              "      <td>29.000000</td>\n",
              "      <td>38.000000</td>\n",
              "      <td>5.000000</td>\n",
              "    </tr>\n",
              "    <tr>\n",
              "      <th>50%</th>\n",
              "      <td>26.000000</td>\n",
              "      <td>1.000000</td>\n",
              "      <td>0.000000</td>\n",
              "      <td>9.000000</td>\n",
              "      <td>10.000000</td>\n",
              "      <td>3256.500000</td>\n",
              "      <td>3.000000</td>\n",
              "      <td>1.000000</td>\n",
              "      <td>1.000000</td>\n",
              "      <td>0.000000</td>\n",
              "      <td>33.000000</td>\n",
              "      <td>39.000000</td>\n",
              "      <td>7.000000</td>\n",
              "    </tr>\n",
              "    <tr>\n",
              "      <th>75%</th>\n",
              "      <td>31.000000</td>\n",
              "      <td>2.000000</td>\n",
              "      <td>0.000000</td>\n",
              "      <td>9.000000</td>\n",
              "      <td>10.000000</td>\n",
              "      <td>3575.000000</td>\n",
              "      <td>6.000000</td>\n",
              "      <td>2.000000</td>\n",
              "      <td>1.000000</td>\n",
              "      <td>0.000000</td>\n",
              "      <td>37.000000</td>\n",
              "      <td>40.000000</td>\n",
              "      <td>9.000000</td>\n",
              "    </tr>\n",
              "    <tr>\n",
              "      <th>max</th>\n",
              "      <td>51.000000</td>\n",
              "      <td>14.000000</td>\n",
              "      <td>14.000000</td>\n",
              "      <td>10.000000</td>\n",
              "      <td>10.000000</td>\n",
              "      <td>5740.000000</td>\n",
              "      <td>8.000000</td>\n",
              "      <td>42.000000</td>\n",
              "      <td>20.000000</td>\n",
              "      <td>11.000000</td>\n",
              "      <td>87.000000</td>\n",
              "      <td>45.000000</td>\n",
              "      <td>99.000000</td>\n",
              "    </tr>\n",
              "  </tbody>\n",
              "</table>\n",
              "</div>"
            ],
            "text/plain": [
              "           IDADEMAE    QTDFILVIVO  ...    SEMAGESTAC    CONSPRENAT\n",
              "count  33867.000000  30180.000000  ...  33483.000000  33571.000000\n",
              "mean      26.148079      1.123062  ...     38.673476      7.178011\n",
              "std        6.849105      1.417291  ...      2.190846      4.441002\n",
              "min       11.000000      0.000000  ...     19.000000      0.000000\n",
              "25%       21.000000      0.000000  ...     38.000000      5.000000\n",
              "50%       26.000000      1.000000  ...     39.000000      7.000000\n",
              "75%       31.000000      2.000000  ...     40.000000      9.000000\n",
              "max       51.000000     14.000000  ...     45.000000     99.000000\n",
              "\n",
              "[8 rows x 13 columns]"
            ]
          },
          "metadata": {
            "tags": []
          },
          "execution_count": 11
        }
      ]
    },
    {
      "cell_type": "code",
      "metadata": {
        "colab": {
          "base_uri": "https://localhost:8080/",
          "height": 235
        },
        "id": "FtEW51IzEGI4",
        "outputId": "cdba7693-8eb8-4cca-da0c-76d95edc0292"
      },
      "source": [
        "#1 - Qual a média da idade da mãe, peso, apgar 1 min, apgar 5 min, quantidade de filhos vivos e quantidade de filhos mortos?\n",
        "\n",
        "campos_medias = sinasc[['PESO','IDADEMAE','QTDFILVIVO','QTDFILMORT','APGAR1','APGAR5']]\n",
        "medias = campos_medias.mean().to_frame()\n",
        "medias"
      ],
      "execution_count": 12,
      "outputs": [
        {
          "output_type": "execute_result",
          "data": {
            "text/html": [
              "<div>\n",
              "<style scoped>\n",
              "    .dataframe tbody tr th:only-of-type {\n",
              "        vertical-align: middle;\n",
              "    }\n",
              "\n",
              "    .dataframe tbody tr th {\n",
              "        vertical-align: top;\n",
              "    }\n",
              "\n",
              "    .dataframe thead th {\n",
              "        text-align: right;\n",
              "    }\n",
              "</style>\n",
              "<table border=\"1\" class=\"dataframe\">\n",
              "  <thead>\n",
              "    <tr style=\"text-align: right;\">\n",
              "      <th></th>\n",
              "      <th>0</th>\n",
              "    </tr>\n",
              "  </thead>\n",
              "  <tbody>\n",
              "    <tr>\n",
              "      <th>PESO</th>\n",
              "      <td>3223.196332</td>\n",
              "    </tr>\n",
              "    <tr>\n",
              "      <th>IDADEMAE</th>\n",
              "      <td>26.148079</td>\n",
              "    </tr>\n",
              "    <tr>\n",
              "      <th>QTDFILVIVO</th>\n",
              "      <td>1.123062</td>\n",
              "    </tr>\n",
              "    <tr>\n",
              "      <th>QTDFILMORT</th>\n",
              "      <td>0.310486</td>\n",
              "    </tr>\n",
              "    <tr>\n",
              "      <th>APGAR1</th>\n",
              "      <td>8.443829</td>\n",
              "    </tr>\n",
              "    <tr>\n",
              "      <th>APGAR5</th>\n",
              "      <td>9.526913</td>\n",
              "    </tr>\n",
              "  </tbody>\n",
              "</table>\n",
              "</div>"
            ],
            "text/plain": [
              "                      0\n",
              "PESO        3223.196332\n",
              "IDADEMAE      26.148079\n",
              "QTDFILVIVO     1.123062\n",
              "QTDFILMORT     0.310486\n",
              "APGAR1         8.443829\n",
              "APGAR5         9.526913"
            ]
          },
          "metadata": {
            "tags": []
          },
          "execution_count": 12
        }
      ]
    },
    {
      "cell_type": "code",
      "metadata": {
        "colab": {
          "base_uri": "https://localhost:8080/",
          "height": 80
        },
        "id": "Cw_95FtMErTI",
        "outputId": "3345ea41-9ac2-41cc-8f33-942ab768ed98"
      },
      "source": [
        "#2 - Qual a idade tal que metade das idades das mães são menores que ela (mediana)?\n",
        "\n",
        "campos_mediana = sinasc[['IDADEMAE']]\n",
        "medianas = campos_mediana.median().to_frame()\n",
        "medianas"
      ],
      "execution_count": 14,
      "outputs": [
        {
          "output_type": "execute_result",
          "data": {
            "text/html": [
              "<div>\n",
              "<style scoped>\n",
              "    .dataframe tbody tr th:only-of-type {\n",
              "        vertical-align: middle;\n",
              "    }\n",
              "\n",
              "    .dataframe tbody tr th {\n",
              "        vertical-align: top;\n",
              "    }\n",
              "\n",
              "    .dataframe thead th {\n",
              "        text-align: right;\n",
              "    }\n",
              "</style>\n",
              "<table border=\"1\" class=\"dataframe\">\n",
              "  <thead>\n",
              "    <tr style=\"text-align: right;\">\n",
              "      <th></th>\n",
              "      <th>0</th>\n",
              "    </tr>\n",
              "  </thead>\n",
              "  <tbody>\n",
              "    <tr>\n",
              "      <th>IDADEMAE</th>\n",
              "      <td>26.0</td>\n",
              "    </tr>\n",
              "  </tbody>\n",
              "</table>\n",
              "</div>"
            ],
            "text/plain": [
              "             0\n",
              "IDADEMAE  26.0"
            ]
          },
          "metadata": {
            "tags": []
          },
          "execution_count": 14
        }
      ]
    },
    {
      "cell_type": "code",
      "metadata": {
        "colab": {
          "base_uri": "https://localhost:8080/",
          "height": 80
        },
        "id": "NRdTHy9qGx4Z",
        "outputId": "45cc41ec-b58c-4836-eba1-74186e87fe79"
      },
      "source": [
        "#3 - Qual o apgar de 1 min que mais aparece (moda)?\n",
        "\n",
        "campos_moda1 = sinasc[['APGAR1']]\n",
        "moda1 = campos_moda1.mode()\n",
        "moda1"
      ],
      "execution_count": 20,
      "outputs": [
        {
          "output_type": "execute_result",
          "data": {
            "text/html": [
              "<div>\n",
              "<style scoped>\n",
              "    .dataframe tbody tr th:only-of-type {\n",
              "        vertical-align: middle;\n",
              "    }\n",
              "\n",
              "    .dataframe tbody tr th {\n",
              "        vertical-align: top;\n",
              "    }\n",
              "\n",
              "    .dataframe thead th {\n",
              "        text-align: right;\n",
              "    }\n",
              "</style>\n",
              "<table border=\"1\" class=\"dataframe\">\n",
              "  <thead>\n",
              "    <tr style=\"text-align: right;\">\n",
              "      <th></th>\n",
              "      <th>APGAR1</th>\n",
              "    </tr>\n",
              "  </thead>\n",
              "  <tbody>\n",
              "    <tr>\n",
              "      <th>0</th>\n",
              "      <td>9.0</td>\n",
              "    </tr>\n",
              "  </tbody>\n",
              "</table>\n",
              "</div>"
            ],
            "text/plain": [
              "   APGAR1\n",
              "0     9.0"
            ]
          },
          "metadata": {
            "tags": []
          },
          "execution_count": 20
        }
      ]
    },
    {
      "cell_type": "code",
      "metadata": {
        "colab": {
          "base_uri": "https://localhost:8080/",
          "height": 80
        },
        "id": "_br5SX1cHPZQ",
        "outputId": "600e951c-ab8f-4608-a8b8-f9e10122079c"
      },
      "source": [
        "#4 - Qual o apgar de 5 minutos que mais aparece?\n",
        "\n",
        "campos_moda2 = sinasc[['APGAR5']]\n",
        "moda2 = campos_moda2.mode()\n",
        "moda2"
      ],
      "execution_count": 21,
      "outputs": [
        {
          "output_type": "execute_result",
          "data": {
            "text/html": [
              "<div>\n",
              "<style scoped>\n",
              "    .dataframe tbody tr th:only-of-type {\n",
              "        vertical-align: middle;\n",
              "    }\n",
              "\n",
              "    .dataframe tbody tr th {\n",
              "        vertical-align: top;\n",
              "    }\n",
              "\n",
              "    .dataframe thead th {\n",
              "        text-align: right;\n",
              "    }\n",
              "</style>\n",
              "<table border=\"1\" class=\"dataframe\">\n",
              "  <thead>\n",
              "    <tr style=\"text-align: right;\">\n",
              "      <th></th>\n",
              "      <th>APGAR5</th>\n",
              "    </tr>\n",
              "  </thead>\n",
              "  <tbody>\n",
              "    <tr>\n",
              "      <th>0</th>\n",
              "      <td>10.0</td>\n",
              "    </tr>\n",
              "  </tbody>\n",
              "</table>\n",
              "</div>"
            ],
            "text/plain": [
              "   APGAR5\n",
              "0    10.0"
            ]
          },
          "metadata": {
            "tags": []
          },
          "execution_count": 21
        }
      ]
    },
    {
      "cell_type": "code",
      "metadata": {
        "colab": {
          "base_uri": "https://localhost:8080/",
          "height": 80
        },
        "id": "GBFwaoHqHwiH",
        "outputId": "2a43e891-a2dd-41a7-e4e7-b50aef445dc6"
      },
      "source": [
        "#5 - Qual o peso da criança tal que 10% dos pesos são menores (P10)?\n",
        "\n",
        "campos_quantis = sinasc[['PESO']]\n",
        "quantis = campos_quantis.quantile([0.1])\n",
        "quantis"
      ],
      "execution_count": 22,
      "outputs": [
        {
          "output_type": "execute_result",
          "data": {
            "text/html": [
              "<div>\n",
              "<style scoped>\n",
              "    .dataframe tbody tr th:only-of-type {\n",
              "        vertical-align: middle;\n",
              "    }\n",
              "\n",
              "    .dataframe tbody tr th {\n",
              "        vertical-align: top;\n",
              "    }\n",
              "\n",
              "    .dataframe thead th {\n",
              "        text-align: right;\n",
              "    }\n",
              "</style>\n",
              "<table border=\"1\" class=\"dataframe\">\n",
              "  <thead>\n",
              "    <tr style=\"text-align: right;\">\n",
              "      <th></th>\n",
              "      <th>PESO</th>\n",
              "    </tr>\n",
              "  </thead>\n",
              "  <tbody>\n",
              "    <tr>\n",
              "      <th>0.1</th>\n",
              "      <td>2570.0</td>\n",
              "    </tr>\n",
              "  </tbody>\n",
              "</table>\n",
              "</div>"
            ],
            "text/plain": [
              "       PESO\n",
              "0.1  2570.0"
            ]
          },
          "metadata": {
            "tags": []
          },
          "execution_count": 22
        }
      ]
    },
    {
      "cell_type": "code",
      "metadata": {
        "colab": {
          "base_uri": "https://localhost:8080/",
          "height": 80
        },
        "id": "3Lkv_dzbKtBj",
        "outputId": "d28854ec-296c-43df-e7ab-5cf47a291a72"
      },
      "source": [
        "#6 - Qual o peso da criança tal que 75% dos pesos são menores (Q3)?\n",
        "\n",
        "campos_quantis2 = sinasc[['PESO']]\n",
        "quantis2 = campos_quantis2.quantile([0.75])\n",
        "quantis2"
      ],
      "execution_count": 24,
      "outputs": [
        {
          "output_type": "execute_result",
          "data": {
            "text/html": [
              "<div>\n",
              "<style scoped>\n",
              "    .dataframe tbody tr th:only-of-type {\n",
              "        vertical-align: middle;\n",
              "    }\n",
              "\n",
              "    .dataframe tbody tr th {\n",
              "        vertical-align: top;\n",
              "    }\n",
              "\n",
              "    .dataframe thead th {\n",
              "        text-align: right;\n",
              "    }\n",
              "</style>\n",
              "<table border=\"1\" class=\"dataframe\">\n",
              "  <thead>\n",
              "    <tr style=\"text-align: right;\">\n",
              "      <th></th>\n",
              "      <th>PESO</th>\n",
              "    </tr>\n",
              "  </thead>\n",
              "  <tbody>\n",
              "    <tr>\n",
              "      <th>0.75</th>\n",
              "      <td>3575.0</td>\n",
              "    </tr>\n",
              "  </tbody>\n",
              "</table>\n",
              "</div>"
            ],
            "text/plain": [
              "        PESO\n",
              "0.75  3575.0"
            ]
          },
          "metadata": {
            "tags": []
          },
          "execution_count": 24
        }
      ]
    },
    {
      "cell_type": "code",
      "metadata": {
        "colab": {
          "base_uri": "https://localhost:8080/",
          "height": 80
        },
        "id": "kjafMvOdLQtZ",
        "outputId": "fa8ba5bb-4e10-4e57-c8ab-fc4d77127591"
      },
      "source": [
        "#7 - Qual a quantidade de filhos mortos que mais aparece?\n",
        "\n",
        "campos_moda3 = sinasc[['QTDFILMORT']]\n",
        "moda3 = campos_moda3.mode()\n",
        "moda3"
      ],
      "execution_count": 25,
      "outputs": [
        {
          "output_type": "execute_result",
          "data": {
            "text/html": [
              "<div>\n",
              "<style scoped>\n",
              "    .dataframe tbody tr th:only-of-type {\n",
              "        vertical-align: middle;\n",
              "    }\n",
              "\n",
              "    .dataframe tbody tr th {\n",
              "        vertical-align: top;\n",
              "    }\n",
              "\n",
              "    .dataframe thead th {\n",
              "        text-align: right;\n",
              "    }\n",
              "</style>\n",
              "<table border=\"1\" class=\"dataframe\">\n",
              "  <thead>\n",
              "    <tr style=\"text-align: right;\">\n",
              "      <th></th>\n",
              "      <th>QTDFILMORT</th>\n",
              "    </tr>\n",
              "  </thead>\n",
              "  <tbody>\n",
              "    <tr>\n",
              "      <th>0</th>\n",
              "      <td>0</td>\n",
              "    </tr>\n",
              "  </tbody>\n",
              "</table>\n",
              "</div>"
            ],
            "text/plain": [
              "   QTDFILMORT\n",
              "0           0"
            ]
          },
          "metadata": {
            "tags": []
          },
          "execution_count": 25
        }
      ]
    },
    {
      "cell_type": "code",
      "metadata": {
        "colab": {
          "base_uri": "https://localhost:8080/"
        },
        "id": "_AmQS7YFL2xR",
        "outputId": "0434ec40-88ea-42ff-e935-b5a27a3f0c55"
      },
      "source": [
        "#8 - Qual a média de idade de mães solteiras?\n",
        "\n",
        "sinascSE2 = sinasc[(sinasc.ESTCIVMAE == '1')]\n",
        "sinascSE2.IDADEMAE.mean"
      ],
      "execution_count": 37,
      "outputs": [
        {
          "output_type": "execute_result",
          "data": {
            "text/plain": [
              "<bound method Series.mean of 4        16\n",
              "5        25\n",
              "7        26\n",
              "19       26\n",
              "35       21\n",
              "         ..\n",
              "33854    21\n",
              "33858    20\n",
              "33864    26\n",
              "33865    33\n",
              "33866    23\n",
              "Name: IDADEMAE, Length: 16274, dtype: Int64>"
            ]
          },
          "metadata": {
            "tags": []
          },
          "execution_count": 37
        }
      ]
    },
    {
      "cell_type": "code",
      "metadata": {
        "colab": {
          "base_uri": "https://localhost:8080/"
        },
        "id": "TmvwtmssN-7r",
        "outputId": "dbcce82e-edf6-49c3-d649-7750b3049bc2"
      },
      "source": [
        "#9 - Qual a quantidade de filhos vivos das mães com até 3 anos de escolaridade tal que 25% dessa quantidade são menores (Q1)?\n",
        "\n",
        "escolaridade = sinasc[(sinasc.ESCMAE >= '2')]\n",
        "escolaridade.QTDFILVIVO.quantile(0.25)"
      ],
      "execution_count": 38,
      "outputs": [
        {
          "output_type": "execute_result",
          "data": {
            "text/plain": [
              "0.0"
            ]
          },
          "metadata": {
            "tags": []
          },
          "execution_count": 38
        }
      ]
    },
    {
      "cell_type": "code",
      "metadata": {
        "colab": {
          "base_uri": "https://localhost:8080/"
        },
        "id": "tA-5JrqPN_vw",
        "outputId": "24b67189-3acf-4949-9e0d-60a69220b087"
      },
      "source": [
        "#10 - Qual a moda da idade das mães para as crianças que nasceram com anomalia congênita?\n",
        "\n",
        "anomalia = sinasc[(sinasc.IDANOMAL == '1')]\n",
        "anomalia.IDADEMAE.mode()"
      ],
      "execution_count": 32,
      "outputs": [
        {
          "output_type": "execute_result",
          "data": {
            "text/plain": [
              "0    21\n",
              "dtype: int64"
            ]
          },
          "metadata": {
            "tags": []
          },
          "execution_count": 32
        }
      ]
    }
  ]
}